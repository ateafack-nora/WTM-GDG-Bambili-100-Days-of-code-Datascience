{
  "nbformat": 4,
  "nbformat_minor": 0,
  "metadata": {
    "colab": {
      "name": "Day10-For-loop.ipynb",
      "provenance": [],
      "authorship_tag": "ABX9TyPbcf0jOl+uQRcSX6aMUwxF",
      "include_colab_link": true
    },
    "kernelspec": {
      "name": "python3",
      "display_name": "Python 3"
    },
    "language_info": {
      "name": "python"
    }
  },
  "cells": [
    {
      "cell_type": "markdown",
      "metadata": {
        "id": "view-in-github",
        "colab_type": "text"
      },
      "source": [
        "<a href=\"https://colab.research.google.com/github/ateafack-nora/WTM-GDG-Bambili-100-Days-of-code-Datascience/blob/main/Day10_For_loop.ipynb\" target=\"_parent\"><img src=\"https://colab.research.google.com/assets/colab-badge.svg\" alt=\"Open In Colab\"/></a>"
      ]
    },
    {
      "cell_type": "code",
      "metadata": {
        "id": "5qvuhHyMaEH1"
      },
      "source": [
        ""
      ],
      "execution_count": null,
      "outputs": []
    },
    {
      "cell_type": "markdown",
      "metadata": {
        "id": "euIcNGq_eKoL"
      },
      "source": [
        "FOR LOOPS"
      ]
    },
    {
      "cell_type": "code",
      "metadata": {
        "colab": {
          "base_uri": "https://localhost:8080/"
        },
        "id": "q1oIXuNaeNWE",
        "outputId": "28a10f1b-460f-4976-8e5e-8d1c22a8c8a4"
      },
      "source": [
        "x = ['foo', 'bar', 'baz']\n",
        "for i in x:\n",
        "     print(i)"
      ],
      "execution_count": 1,
      "outputs": [
        {
          "output_type": "stream",
          "name": "stdout",
          "text": [
            "foo\n",
            "bar\n",
            "baz\n"
          ]
        }
      ]
    },
    {
      "cell_type": "markdown",
      "metadata": {
        "id": "9DsArxojDpox"
      },
      "source": [
        "Iterations"
      ]
    },
    {
      "cell_type": "code",
      "metadata": {
        "colab": {
          "base_uri": "https://localhost:8080/"
        },
        "id": "Ic8L1QGfkeo-",
        "outputId": "3ee2182d-cbab-4f34-c327-32883ecaac7a"
      },
      "source": [
        " \n",
        "# String\n",
        "iter('foobar') \n"
      ],
      "execution_count": 3,
      "outputs": [
        {
          "output_type": "execute_result",
          "data": {
            "text/plain": [
              "<list_iterator at 0x7f7a8b200b50>"
            ]
          },
          "metadata": {},
          "execution_count": 3
        }
      ]
    },
    {
      "cell_type": "code",
      "metadata": {
        "colab": {
          "base_uri": "https://localhost:8080/"
        },
        "id": "rY_GYo8XDhmQ",
        "outputId": "4d3e499b-3f39-444e-8f8e-25c324b894cd"
      },
      "source": [
        "# List\n",
        "iter(['foo', 'bar', 'baz']) "
      ],
      "execution_count": 5,
      "outputs": [
        {
          "output_type": "execute_result",
          "data": {
            "text/plain": [
              "<list_iterator at 0x7f7a8dc79c90>"
            ]
          },
          "metadata": {},
          "execution_count": 5
        }
      ]
    },
    {
      "cell_type": "code",
      "metadata": {
        "colab": {
          "base_uri": "https://localhost:8080/"
        },
        "id": "kE9XEdFMDvkm",
        "outputId": "0a08ccde-75a0-4736-978f-99b25f9d75be"
      },
      "source": [
        "# Tuple\n",
        "iter(('foo', 'bar', 'baz'))"
      ],
      "execution_count": 7,
      "outputs": [
        {
          "output_type": "execute_result",
          "data": {
            "text/plain": [
              "<tuple_iterator at 0x7f7a8dc79050>"
            ]
          },
          "metadata": {},
          "execution_count": 7
        }
      ]
    },
    {
      "cell_type": "code",
      "metadata": {
        "colab": {
          "base_uri": "https://localhost:8080/"
        },
        "id": "IXgs5YxiD6zr",
        "outputId": "3471e02c-c2b0-4e6d-95e1-48bf403d7136"
      },
      "source": [
        "# Set\n",
        "iter({'foo', 'bar', 'baz'}) "
      ],
      "execution_count": 8,
      "outputs": [
        {
          "output_type": "execute_result",
          "data": {
            "text/plain": [
              "<set_iterator at 0x7f7a8b20e780>"
            ]
          },
          "metadata": {},
          "execution_count": 8
        }
      ]
    },
    {
      "cell_type": "code",
      "metadata": {
        "colab": {
          "base_uri": "https://localhost:8080/"
        },
        "id": "-0EH4jUwEDSR",
        "outputId": "994e2187-ddaa-4961-c2cd-cb4947f7237a"
      },
      "source": [
        "# Dict\n",
        "iter({'foo': 1, 'bar': 2, 'baz': 3})"
      ],
      "execution_count": 10,
      "outputs": [
        {
          "output_type": "execute_result",
          "data": {
            "text/plain": [
              "<dict_keyiterator at 0x7f7a8b2202f0>"
            ]
          },
          "metadata": {},
          "execution_count": 10
        }
      ]
    },
    {
      "cell_type": "code",
      "metadata": {
        "id": "vpI_acuTEObg"
      },
      "source": [
        "#interger, float and build-in function are not iterable\n",
        "#iter(42)"
      ],
      "execution_count": 13,
      "outputs": []
    },
    {
      "cell_type": "code",
      "metadata": {
        "colab": {
          "base_uri": "https://localhost:8080/"
        },
        "id": "SOm-1copJJCg",
        "outputId": "3478279c-2206-41a5-f9fa-6d1869aa4b22"
      },
      "source": [
        "x = ['foo', 'bar', 'baz']\n",
        "\n",
        "itr = iter(x)\n",
        "print(itr)\n"
      ],
      "execution_count": 17,
      "outputs": [
        {
          "output_type": "stream",
          "name": "stdout",
          "text": [
            "<list_iterator object at 0x7f7a8b210c10>\n"
          ]
        }
      ]
    },
    {
      "cell_type": "code",
      "metadata": {
        "colab": {
          "base_uri": "https://localhost:8080/",
          "height": 35
        },
        "id": "K98JcrPYJkBy",
        "outputId": "71028df9-3f91-4dcc-f7f4-2ddd22defae4"
      },
      "source": [
        "next(itr)\n"
      ],
      "execution_count": 18,
      "outputs": [
        {
          "output_type": "execute_result",
          "data": {
            "application/vnd.google.colaboratory.intrinsic+json": {
              "type": "string"
            },
            "text/plain": [
              "'foo'"
            ]
          },
          "metadata": {},
          "execution_count": 18
        }
      ]
    },
    {
      "cell_type": "code",
      "metadata": {
        "colab": {
          "base_uri": "https://localhost:8080/",
          "height": 35
        },
        "id": "hZrlMFOUJlaY",
        "outputId": "2fb9bb7f-3332-4155-9eeb-04e33ba89f59"
      },
      "source": [
        "next(itr)"
      ],
      "execution_count": 19,
      "outputs": [
        {
          "output_type": "execute_result",
          "data": {
            "application/vnd.google.colaboratory.intrinsic+json": {
              "type": "string"
            },
            "text/plain": [
              "'bar'"
            ]
          },
          "metadata": {},
          "execution_count": 19
        }
      ]
    },
    {
      "cell_type": "code",
      "metadata": {
        "colab": {
          "base_uri": "https://localhost:8080/",
          "height": 35
        },
        "id": "9Q9MXZeVJnS2",
        "outputId": "490d8511-6083-4597-83fd-9544644f3eaf"
      },
      "source": [
        "next(itr)\n"
      ],
      "execution_count": 20,
      "outputs": [
        {
          "output_type": "execute_result",
          "data": {
            "application/vnd.google.colaboratory.intrinsic+json": {
              "type": "string"
            },
            "text/plain": [
              "'baz'"
            ]
          },
          "metadata": {},
          "execution_count": 20
        }
      ]
    },
    {
      "cell_type": "code",
      "metadata": {
        "colab": {
          "base_uri": "https://localhost:8080/",
          "height": 181
        },
        "id": "PVRQgS7cJpVg",
        "outputId": "921a762e-cec8-4b74-9fb4-f9a88b026e0e"
      },
      "source": [
        "#an errror message of stopiteration is raised after all the values have been called\n",
        "next(itr)"
      ],
      "execution_count": 22,
      "outputs": [
        {
          "output_type": "error",
          "ename": "StopIteration",
          "evalue": "ignored",
          "traceback": [
            "\u001b[0;31m---------------------------------------------------------------------------\u001b[0m",
            "\u001b[0;31mStopIteration\u001b[0m                             Traceback (most recent call last)",
            "\u001b[0;32m<ipython-input-22-d4c616f7d14d>\u001b[0m in \u001b[0;36m<module>\u001b[0;34m()\u001b[0m\n\u001b[1;32m      1\u001b[0m \u001b[0;31m#an errror message of stopiteration is raised after all the values have been called\u001b[0m\u001b[0;34m\u001b[0m\u001b[0;34m\u001b[0m\u001b[0;34m\u001b[0m\u001b[0m\n\u001b[0;32m----> 2\u001b[0;31m \u001b[0mnext\u001b[0m\u001b[0;34m(\u001b[0m\u001b[0mitr\u001b[0m\u001b[0;34m)\u001b[0m\u001b[0;34m\u001b[0m\u001b[0;34m\u001b[0m\u001b[0m\n\u001b[0m",
            "\u001b[0;31mStopIteration\u001b[0m: "
          ]
        }
      ]
    },
    {
      "cell_type": "code",
      "metadata": {
        "id": "YcYsFbhTJqgj"
      },
      "source": [
        ""
      ],
      "execution_count": null,
      "outputs": []
    },
    {
      "cell_type": "markdown",
      "metadata": {
        "id": "zYTAxPUb7Ta8"
      },
      "source": [
        " two independent iterators can be define on the same iterable object"
      ]
    },
    {
      "cell_type": "code",
      "metadata": {
        "colab": {
          "base_uri": "https://localhost:8080/"
        },
        "id": "Whap_fPF7ZO8",
        "outputId": "d9dcaf19-6b61-4e32-8af4-5a1de2885116"
      },
      "source": [
        "#the build-in list() function is used to grab all the values in the iterator at once\n",
        "a = ['foo', 'bar', 'baz']\n",
        "itr = iter(a)\n",
        "print(list(itr))"
      ],
      "execution_count": 2,
      "outputs": [
        {
          "output_type": "stream",
          "name": "stdout",
          "text": [
            "['foo', 'bar', 'baz']\n"
          ]
        }
      ]
    },
    {
      "cell_type": "code",
      "metadata": {
        "colab": {
          "base_uri": "https://localhost:8080/"
        },
        "id": "ye8h9BaN8XnI",
        "outputId": "fc00e97d-eb2f-49a9-e254-459b72756636"
      },
      "source": [
        "#for the tuple() built in function\n",
        "a = ['foo', 'bar', 'baz']\n",
        "\n",
        "itr = iter(a)\n",
        "print(tuple(itr))"
      ],
      "execution_count": 5,
      "outputs": [
        {
          "output_type": "stream",
          "name": "stdout",
          "text": [
            "('foo', 'bar', 'baz')\n"
          ]
        }
      ]
    },
    {
      "cell_type": "code",
      "metadata": {
        "colab": {
          "base_uri": "https://localhost:8080/"
        },
        "id": "O9Fi4EAM89IE",
        "outputId": "5e4f9d58-50c6-42a9-eddf-b9eeb86a2e73"
      },
      "source": [
        "# for the set() built-in function\n",
        "itr = iter(a)\n",
        "print(set(itr))"
      ],
      "execution_count": 6,
      "outputs": [
        {
          "output_type": "stream",
          "name": "stdout",
          "text": [
            "{'bar', 'foo', 'baz'}\n"
          ]
        }
      ]
    },
    {
      "cell_type": "code",
      "metadata": {
        "colab": {
          "base_uri": "https://localhost:8080/"
        },
        "id": "EQRvMbfS9OUD",
        "outputId": "fec5f8a6-d97f-4b0c-8a03-88bfba50bbd5"
      },
      "source": [
        "#Iterating Through a Dictionary\n",
        "d = {'foo': 1, 'bar': 2, 'baz': 3}\n",
        "for k in d:\n",
        "  print(k)"
      ],
      "execution_count": 8,
      "outputs": [
        {
          "output_type": "stream",
          "name": "stdout",
          "text": [
            "foo\n",
            "bar\n",
            "baz\n"
          ]
        }
      ]
    },
    {
      "cell_type": "code",
      "metadata": {
        "colab": {
          "base_uri": "https://localhost:8080/"
        },
        "id": "ML5lQ0qx-b1L",
        "outputId": "43e1312b-dbd1-4bdb-b113-c015dab3b277"
      },
      "source": [
        "# accessing a value in a dictionary\n",
        "for k in d:\n",
        "     print(d[k])"
      ],
      "execution_count": 9,
      "outputs": [
        {
          "output_type": "stream",
          "name": "stdout",
          "text": [
            "1\n",
            "2\n",
            "3\n"
          ]
        }
      ]
    },
    {
      "cell_type": "code",
      "metadata": {
        "colab": {
          "base_uri": "https://localhost:8080/"
        },
        "id": "mc2g4cUu_IQG",
        "outputId": "ccb50213-ce68-4ce2-bb05-32eeafc6b510"
      },
      "source": [
        "# using .values() to access values in a dictionary\n",
        "for v in d.values():\n",
        "     print(v)"
      ],
      "execution_count": 10,
      "outputs": [
        {
          "output_type": "stream",
          "name": "stdout",
          "text": [
            "1\n",
            "2\n",
            "3\n"
          ]
        }
      ]
    },
    {
      "cell_type": "code",
      "metadata": {
        "colab": {
          "base_uri": "https://localhost:8080/"
        },
        "id": "cQMOKUpo_pTZ",
        "outputId": "b007589a-f8f5-44da-933f-8fa36085256f"
      },
      "source": [
        "# accessing both key and value in a dictionary\n",
        "d = {'foo': 1, 'bar': 2, 'baz': 3}\n",
        "for k, v in d.items():\n",
        "    print('k =', k, ', v =', v)"
      ],
      "execution_count": 12,
      "outputs": [
        {
          "output_type": "stream",
          "name": "stdout",
          "text": [
            "k = foo , v = 1\n",
            "k = bar , v = 2\n",
            "k = baz , v = 3\n"
          ]
        }
      ]
    },
    {
      "cell_type": "code",
      "metadata": {
        "colab": {
          "base_uri": "https://localhost:8080/"
        },
        "id": "7dlbOV2wA5oP",
        "outputId": "afbd00ed-2205-40ab-e7c1-94cfb33e418f"
      },
      "source": [
        "#range() function\n",
        "x = range(5)\n",
        "print(x)\n",
        "for n in x:\n",
        "     print(n)\n"
      ],
      "execution_count": 16,
      "outputs": [
        {
          "output_type": "stream",
          "name": "stdout",
          "text": [
            "range(0, 5)\n",
            "0\n",
            "1\n",
            "2\n",
            "3\n",
            "4\n"
          ]
        },
        {
          "output_type": "execute_result",
          "data": {
            "text/plain": [
              "[0, 1, 2, 3, 4]"
            ]
          },
          "metadata": {},
          "execution_count": 16
        }
      ]
    },
    {
      "cell_type": "code",
      "metadata": {
        "colab": {
          "base_uri": "https://localhost:8080/"
        },
        "id": "T30arqHfCmBO",
        "outputId": "bc38382c-a5d2-49ee-869b-cec0f56228a7"
      },
      "source": [
        "list(x)\n"
      ],
      "execution_count": 18,
      "outputs": [
        {
          "output_type": "execute_result",
          "data": {
            "text/plain": [
              "[0, 1, 2, 3, 4]"
            ]
          },
          "metadata": {},
          "execution_count": 18
        }
      ]
    },
    {
      "cell_type": "code",
      "metadata": {
        "colab": {
          "base_uri": "https://localhost:8080/"
        },
        "id": "BbYi0OCLCqf2",
        "outputId": "1395dd46-3010-4b97-e2b0-4df11de54f17"
      },
      "source": [
        "tuple(x)"
      ],
      "execution_count": 19,
      "outputs": [
        {
          "output_type": "execute_result",
          "data": {
            "text/plain": [
              "(0, 1, 2, 3, 4)"
            ]
          },
          "metadata": {},
          "execution_count": 19
        }
      ]
    },
    {
      "cell_type": "code",
      "metadata": {
        "colab": {
          "base_uri": "https://localhost:8080/"
        },
        "id": "tBISasRqCt6x",
        "outputId": "59470818-fb3e-4ca1-8379-350ce8d85ed5"
      },
      "source": [
        "list(range(5, 20, 3))"
      ],
      "execution_count": 20,
      "outputs": [
        {
          "output_type": "execute_result",
          "data": {
            "text/plain": [
              "[5, 8, 11, 14, 17]"
            ]
          },
          "metadata": {},
          "execution_count": 20
        }
      ]
    },
    {
      "cell_type": "code",
      "metadata": {
        "colab": {
          "base_uri": "https://localhost:8080/"
        },
        "id": "WEDG7X7hCzoD",
        "outputId": "1f3cdbbe-8e3e-4382-f72a-f502483467a5"
      },
      "source": [
        "list(range(5, 10))"
      ],
      "execution_count": 21,
      "outputs": [
        {
          "output_type": "execute_result",
          "data": {
            "text/plain": [
              "[5, 6, 7, 8, 9]"
            ]
          },
          "metadata": {},
          "execution_count": 21
        }
      ]
    },
    {
      "cell_type": "code",
      "metadata": {
        "colab": {
          "base_uri": "https://localhost:8080/"
        },
        "id": "uuTzpJKGDBvE",
        "outputId": "2ff4cbff-d33a-48ca-80ea-d6245c538e7f"
      },
      "source": [
        "#break statement in foe loop\n",
        "for i in ['foo', 'bar', 'baz', 'qux']:\n",
        "     if 'b' in i:\n",
        "        break\n",
        "     print(i)"
      ],
      "execution_count": 24,
      "outputs": [
        {
          "output_type": "stream",
          "name": "stdout",
          "text": [
            "foo\n"
          ]
        }
      ]
    },
    {
      "cell_type": "code",
      "metadata": {
        "id": "iLwaS-15D0Sz",
        "outputId": "856503e1-f81d-42e4-f88b-67224172f62c",
        "colab": {
          "base_uri": "https://localhost:8080/"
        }
      },
      "source": [
        "# continue statement in for loop\n",
        "for i in ['foo', 'bar', 'baz', 'qux']:\n",
        "     if 'b' in i:\n",
        "         continue\n",
        "     print(i)"
      ],
      "execution_count": 26,
      "outputs": [
        {
          "output_type": "stream",
          "name": "stdout",
          "text": [
            "foo\n",
            "qux\n"
          ]
        }
      ]
    },
    {
      "cell_type": "code",
      "metadata": {
        "id": "wvwI5ByJEdWl",
        "outputId": "748b76b5-e03b-46c0-8425-29344c7e2182",
        "colab": {
          "base_uri": "https://localhost:8080/"
        }
      },
      "source": [
        "#else clause\n",
        "for i in ['foo', 'bar', 'baz', 'qux']:\n",
        "     print(i)\n",
        "else:\n",
        "      print('Done.')"
      ],
      "execution_count": 30,
      "outputs": [
        {
          "output_type": "stream",
          "name": "stdout",
          "text": [
            "foo\n",
            "bar\n",
            "baz\n",
            "qux\n",
            "Done.\n"
          ]
        }
      ]
    },
    {
      "cell_type": "code",
      "metadata": {
        "id": "2eBc-6e5FIXe",
        "outputId": "81fae3c8-3591-4368-e42b-33378fb8c402",
        "colab": {
          "base_uri": "https://localhost:8080/"
        }
      },
      "source": [
        "for i in ['foo', 'bar', 'baz', 'qux']:\n",
        "     if i == 'bar':\n",
        "         break\n",
        "     print(i)\n",
        "else:\n",
        "     print('Done.') "
      ],
      "execution_count": 32,
      "outputs": [
        {
          "output_type": "stream",
          "name": "stdout",
          "text": [
            "foo\n"
          ]
        }
      ]
    }
  ]
}