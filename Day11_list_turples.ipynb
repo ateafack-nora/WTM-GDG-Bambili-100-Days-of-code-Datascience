{
  "nbformat": 4,
  "nbformat_minor": 0,
  "metadata": {
    "colab": {
      "name": "Day11-list-turples.ipynb",
      "provenance": [],
      "authorship_tag": "ABX9TyO71kYEviqgatyPZeCo8vjY",
      "include_colab_link": true
    },
    "kernelspec": {
      "name": "python3",
      "display_name": "Python 3"
    },
    "language_info": {
      "name": "python"
    }
  },
  "cells": [
    {
      "cell_type": "markdown",
      "metadata": {
        "id": "view-in-github",
        "colab_type": "text"
      },
      "source": [
        "<a href=\"https://colab.research.google.com/github/ateafack-nora/WTM-GDG-Bambili-100-Days-of-code-Datascience/blob/main/Day11_list_turples.ipynb\" target=\"_parent\"><img src=\"https://colab.research.google.com/assets/colab-badge.svg\" alt=\"Open In Colab\"/></a>"
      ]
    },
    {
      "cell_type": "code",
      "metadata": {
        "id": "wxt9932D73hV"
      },
      "source": [
        ""
      ],
      "execution_count": null,
      "outputs": []
    },
    {
      "cell_type": "markdown",
      "metadata": {
        "id": "hKFV2CPc78Lm"
      },
      "source": [
        "List and Turples"
      ]
    },
    {
      "cell_type": "code",
      "metadata": {
        "colab": {
          "base_uri": "https://localhost:8080/"
        },
        "id": "vFh_ZZWc7_5_",
        "outputId": "dc8b2760-9b24-4746-8fc0-7479a8502ca5"
      },
      "source": [
        " a = ['foo', 'bar', 'baz', 'qux']\n",
        " print(a)"
      ],
      "execution_count": null,
      "outputs": [
        {
          "output_type": "stream",
          "name": "stdout",
          "text": [
            "['foo', 'bar', 'baz', 'qux']\n"
          ]
        }
      ]
    },
    {
      "cell_type": "code",
      "metadata": {
        "colab": {
          "base_uri": "https://localhost:8080/"
        },
        "id": "881jwY3u8IN0",
        "outputId": "65952e9c-29fb-4188-ee99-814d258ee5e2"
      },
      "source": [
        "#ordered list\n",
        "b = ['baz', 'qux', 'bar', 'foo']\n",
        "a == b"
      ],
      "execution_count": null,
      "outputs": [
        {
          "output_type": "execute_result",
          "data": {
            "text/plain": [
              "False"
            ]
          },
          "metadata": {},
          "execution_count": 2
        }
      ]
    },
    {
      "cell_type": "code",
      "metadata": {
        "id": "G1VQZSxt88Eq"
      },
      "source": [
        ""
      ],
      "execution_count": null,
      "outputs": []
    },
    {
      "cell_type": "markdown",
      "metadata": {
        "id": "y7Q0mjIT9Hb-"
      },
      "source": [
        "a== b is false because the elements are not in thesame order even though they are thesame"
      ]
    },
    {
      "cell_type": "code",
      "metadata": {
        "colab": {
          "base_uri": "https://localhost:8080/"
        },
        "id": "BlNCwgvk9WIt",
        "outputId": "8b0d01cd-bc92-4d37-959d-a919ec574a30"
      },
      "source": [
        "# a list can contain element of either thesame type or varying type\n",
        "a = [2, 4, 6, 8]\n",
        "print(a)\n",
        "b = [21.42, 'foobar', 3, 4, 'bark', False, 3.14159]\n",
        "print(b)"
      ],
      "execution_count": null,
      "outputs": [
        {
          "output_type": "stream",
          "name": "stdout",
          "text": [
            "[2, 4, 6, 8]\n",
            "[21.42, 'foobar', 3, 4, 'bark', False, 3.14159]\n"
          ]
        }
      ]
    },
    {
      "cell_type": "code",
      "metadata": {
        "colab": {
          "base_uri": "https://localhost:8080/"
        },
        "id": "roFLbTH_-F5n",
        "outputId": "ac1ec8c2-d067-466b-d11a-b6aa6d35cb52"
      },
      "source": [
        "#list can contain complex objects\n",
        "a = [int, len]\n",
        "print(a)"
      ],
      "execution_count": null,
      "outputs": [
        {
          "output_type": "stream",
          "name": "stdout",
          "text": [
            "[<class 'int'>, <built-in function len>]\n"
          ]
        }
      ]
    },
    {
      "cell_type": "code",
      "metadata": {
        "colab": {
          "base_uri": "https://localhost:8080/"
        },
        "id": "nKFKhgac--mD",
        "outputId": "aad75907-973c-424a-8334-063002c9f521"
      },
      "source": [
        "# An object can appear in a list multiple times\n",
        "a = ['bark', 'meow', 'woof', 'bark', 'cheep', 'bark']\n",
        "print(a)\n",
        "\n"
      ],
      "execution_count": null,
      "outputs": [
        {
          "output_type": "stream",
          "name": "stdout",
          "text": [
            "['bark', 'meow', 'woof', 'bark', 'cheep', 'bark']\n"
          ]
        }
      ]
    },
    {
      "cell_type": "code",
      "metadata": {
        "colab": {
          "base_uri": "https://localhost:8080/",
          "height": 35
        },
        "id": "0VX1X-sbtVJI",
        "outputId": "a596a349-be53-48d4-ee7d-f248ae2021e1"
      },
      "source": [
        "# element in a list can be accessed by the index\n",
        "a[0]\n"
      ],
      "execution_count": null,
      "outputs": [
        {
          "output_type": "execute_result",
          "data": {
            "application/vnd.google.colaboratory.intrinsic+json": {
              "type": "string"
            },
            "text/plain": [
              "'bark'"
            ]
          },
          "metadata": {},
          "execution_count": 4
        }
      ]
    },
    {
      "cell_type": "code",
      "metadata": {
        "colab": {
          "base_uri": "https://localhost:8080/",
          "height": 35
        },
        "id": "W70WvyW_uE8b",
        "outputId": "ca0d9434-3f11-4699-a143-f572f54c22ee"
      },
      "source": [
        "a[4]"
      ],
      "execution_count": null,
      "outputs": [
        {
          "output_type": "execute_result",
          "data": {
            "application/vnd.google.colaboratory.intrinsic+json": {
              "type": "string"
            },
            "text/plain": [
              "'cheep'"
            ]
          },
          "metadata": {},
          "execution_count": 6
        }
      ]
    },
    {
      "cell_type": "code",
      "metadata": {
        "colab": {
          "base_uri": "https://localhost:8080/",
          "height": 35
        },
        "id": "Xl-x8FHzuF1z",
        "outputId": "478cdcdf-462a-4442-d91b-5b505c04f83e"
      },
      "source": [
        "a[-5]"
      ],
      "execution_count": null,
      "outputs": [
        {
          "output_type": "execute_result",
          "data": {
            "application/vnd.google.colaboratory.intrinsic+json": {
              "type": "string"
            },
            "text/plain": [
              "'meow'"
            ]
          },
          "metadata": {},
          "execution_count": 7
        }
      ]
    },
    {
      "cell_type": "code",
      "metadata": {
        "colab": {
          "base_uri": "https://localhost:8080/"
        },
        "id": "r5_lSCoMuZZw",
        "outputId": "4bdf27ac-18f2-450a-f329-caef4b9e6a77"
      },
      "source": [
        "a[1:4]"
      ],
      "execution_count": null,
      "outputs": [
        {
          "output_type": "execute_result",
          "data": {
            "text/plain": [
              "['meow', 'woof', 'bark']"
            ]
          },
          "metadata": {},
          "execution_count": 10
        }
      ]
    },
    {
      "cell_type": "code",
      "metadata": {
        "colab": {
          "base_uri": "https://localhost:8080/"
        },
        "id": "ltQLql9CvAO6",
        "outputId": "207626ec-0b6d-4346-f506-9c7e66a46160"
      },
      "source": [
        "a[-5:-2]\n",
        "\n"
      ],
      "execution_count": null,
      "outputs": [
        {
          "output_type": "execute_result",
          "data": {
            "text/plain": [
              "['meow', 'woof', 'bark']"
            ]
          },
          "metadata": {},
          "execution_count": 17
        }
      ]
    },
    {
      "cell_type": "code",
      "metadata": {
        "colab": {
          "base_uri": "https://localhost:8080/"
        },
        "id": "3dUOT9rcwNJz",
        "outputId": "a372792d-75e4-427e-d4ca-be42764396e8"
      },
      "source": [
        "a[1:4]"
      ],
      "execution_count": null,
      "outputs": [
        {
          "output_type": "execute_result",
          "data": {
            "text/plain": [
              "['meow', 'woof', 'bark']"
            ]
          },
          "metadata": {},
          "execution_count": 14
        }
      ]
    },
    {
      "cell_type": "code",
      "metadata": {
        "colab": {
          "base_uri": "https://localhost:8080/"
        },
        "id": "4vTqE3AGwRlh",
        "outputId": "9af60628-9567-4952-87b8-12ef28f19d7c"
      },
      "source": [
        "a[-5:-2] == a[1:4]"
      ],
      "execution_count": null,
      "outputs": [
        {
          "output_type": "execute_result",
          "data": {
            "text/plain": [
              "True"
            ]
          },
          "metadata": {},
          "execution_count": 18
        }
      ]
    },
    {
      "cell_type": "code",
      "metadata": {
        "colab": {
          "base_uri": "https://localhost:8080/"
        },
        "id": "mpmxlHgMwX7w",
        "outputId": "57b4466a-6488-442f-c2ce-c7cc64d7a0f8"
      },
      "source": [
        "# a stride can either positive or negative\n",
        "a = ['foo', 'bar', 'baz', 'qux', 'quux', 'corge']\n",
        "a[6:0:-2]"
      ],
      "execution_count": null,
      "outputs": [
        {
          "output_type": "execute_result",
          "data": {
            "text/plain": [
              "['corge', 'qux', 'bar']"
            ]
          },
          "metadata": {},
          "execution_count": 3
        }
      ]
    },
    {
      "cell_type": "code",
      "metadata": {
        "colab": {
          "base_uri": "https://localhost:8080/"
        },
        "id": "AMcwT2DO0eXz",
        "outputId": "0ce0b650-6947-4aa6-95ac-53aa303b873c"
      },
      "source": [
        "a[::-1]"
      ],
      "execution_count": null,
      "outputs": [
        {
          "output_type": "execute_result",
          "data": {
            "text/plain": [
              "['corge', 'quux', 'qux', 'baz', 'bar', 'foo']"
            ]
          },
          "metadata": {},
          "execution_count": 5
        }
      ]
    },
    {
      "cell_type": "code",
      "metadata": {
        "colab": {
          "base_uri": "https://localhost:8080/"
        },
        "id": "q98PsulV1snm",
        "outputId": "f1b62a04-237a-41a8-c143-9f1f2e8e6009"
      },
      "source": [
        "a = ['foo', 'bar', 'baz', 'qux', 'quux', 'corge']\n",
        "a[:]"
      ],
      "execution_count": null,
      "outputs": [
        {
          "output_type": "execute_result",
          "data": {
            "text/plain": [
              "['foo', 'bar', 'baz', 'qux', 'quux', 'corge']"
            ]
          },
          "metadata": {},
          "execution_count": 7
        }
      ]
    },
    {
      "cell_type": "code",
      "metadata": {
        "colab": {
          "base_uri": "https://localhost:8080/"
        },
        "id": "JWuY1WFm2IE9",
        "outputId": "d0725d6e-20e6-40cb-b2bb-28dfdd6c87ec"
      },
      "source": [
        "'qux' in a"
      ],
      "execution_count": null,
      "outputs": [
        {
          "output_type": "execute_result",
          "data": {
            "text/plain": [
              "True"
            ]
          },
          "metadata": {},
          "execution_count": 9
        }
      ]
    },
    {
      "cell_type": "code",
      "metadata": {
        "colab": {
          "base_uri": "https://localhost:8080/"
        },
        "id": "u0nqqp2d2KVy",
        "outputId": "d01f1dea-304b-4cdd-e674-9515237d1b08"
      },
      "source": [
        "'thud'  in a"
      ],
      "execution_count": null,
      "outputs": [
        {
          "output_type": "execute_result",
          "data": {
            "text/plain": [
              "False"
            ]
          },
          "metadata": {},
          "execution_count": 11
        }
      ]
    },
    {
      "cell_type": "code",
      "metadata": {
        "colab": {
          "base_uri": "https://localhost:8080/"
        },
        "id": "0KdUXdqg2SwT",
        "outputId": "6040061d-6cda-4409-c559-c27a63fb7cf2"
      },
      "source": [
        "# concatenation (+)\n",
        "a + ['grault', 'garply']"
      ],
      "execution_count": null,
      "outputs": [
        {
          "output_type": "execute_result",
          "data": {
            "text/plain": [
              "['foo', 'bar', 'baz', 'qux', 'quux', 'corge', 'grault', 'garply']"
            ]
          },
          "metadata": {},
          "execution_count": 13
        }
      ]
    },
    {
      "cell_type": "code",
      "metadata": {
        "colab": {
          "base_uri": "https://localhost:8080/"
        },
        "id": "JlGB91dk3Fe0",
        "outputId": "030b568a-ae01-40c3-db15-33800e62d228"
      },
      "source": [
        "#replication (*)\n",
        "print(a * 2)"
      ],
      "execution_count": null,
      "outputs": [
        {
          "output_type": "stream",
          "name": "stdout",
          "text": [
            "['foo', 'bar', 'baz', 'qux', 'quux', 'corge', 'foo', 'bar', 'baz', 'qux', 'quux', 'corge']\n"
          ]
        }
      ]
    },
    {
      "cell_type": "code",
      "metadata": {
        "colab": {
          "base_uri": "https://localhost:8080/"
        },
        "id": "XFfPaQ0k3LJV",
        "outputId": "284cfbcd-64cf-4ae1-b0db-80ae2b171e8c"
      },
      "source": [
        "len(a)"
      ],
      "execution_count": null,
      "outputs": [
        {
          "output_type": "execute_result",
          "data": {
            "text/plain": [
              "6"
            ]
          },
          "metadata": {},
          "execution_count": 19
        }
      ]
    },
    {
      "cell_type": "code",
      "metadata": {
        "colab": {
          "base_uri": "https://localhost:8080/",
          "height": 35
        },
        "id": "mRqMfNg43ygI",
        "outputId": "21c311a5-16f8-4f7b-955a-325a736178f3"
      },
      "source": [
        "min(a)"
      ],
      "execution_count": null,
      "outputs": [
        {
          "output_type": "execute_result",
          "data": {
            "application/vnd.google.colaboratory.intrinsic+json": {
              "type": "string"
            },
            "text/plain": [
              "'bar'"
            ]
          },
          "metadata": {},
          "execution_count": 21
        }
      ]
    },
    {
      "cell_type": "code",
      "metadata": {
        "colab": {
          "base_uri": "https://localhost:8080/",
          "height": 35
        },
        "id": "bx5wemcp35QT",
        "outputId": "ee3a623f-aa99-4c12-ffc0-698d7910d08a"
      },
      "source": [
        "min(a)"
      ],
      "execution_count": null,
      "outputs": [
        {
          "output_type": "execute_result",
          "data": {
            "application/vnd.google.colaboratory.intrinsic+json": {
              "type": "string"
            },
            "text/plain": [
              "'bar'"
            ]
          },
          "metadata": {},
          "execution_count": 22
        }
      ]
    },
    {
      "cell_type": "code",
      "metadata": {
        "colab": {
          "base_uri": "https://localhost:8080/"
        },
        "id": "hRJrsN3U3-ce",
        "outputId": "c947c802-33f8-44ab-e279-2b05257a5588"
      },
      "source": [
        "#Lists Can Be Nested\n",
        "x = ['a', ['bb', ['ccc', 'ddd'], 'ee', 'ff'], 'g', ['hh', 'ii'], 'j']\n",
        "x"
      ],
      "execution_count": null,
      "outputs": [
        {
          "output_type": "execute_result",
          "data": {
            "text/plain": [
              "['a', ['bb', ['ccc', 'ddd'], 'ee', 'ff'], 'g', ['hh', 'ii'], 'j']"
            ]
          },
          "metadata": {},
          "execution_count": 3
        }
      ]
    },
    {
      "cell_type": "code",
      "metadata": {
        "colab": {
          "base_uri": "https://localhost:8080/"
        },
        "id": "THyQ9PIsTvH3",
        "outputId": "525caed9-758d-4cc2-faff-147bd0117a9d"
      },
      "source": [
        " x[1]"
      ],
      "execution_count": null,
      "outputs": [
        {
          "output_type": "execute_result",
          "data": {
            "text/plain": [
              "['bb', ['ccc', 'ddd'], 'ee', 'ff']"
            ]
          },
          "metadata": {},
          "execution_count": 4
        }
      ]
    },
    {
      "cell_type": "code",
      "metadata": {
        "colab": {
          "base_uri": "https://localhost:8080/",
          "height": 35
        },
        "id": "r4tH2WtOT6Lu",
        "outputId": "3ce296c0-6595-4740-a0ee-d8352b2f9075"
      },
      "source": [
        " x[1][0]"
      ],
      "execution_count": null,
      "outputs": [
        {
          "output_type": "execute_result",
          "data": {
            "application/vnd.google.colaboratory.intrinsic+json": {
              "type": "string"
            },
            "text/plain": [
              "'bb'"
            ]
          },
          "metadata": {},
          "execution_count": 5
        }
      ]
    },
    {
      "cell_type": "code",
      "metadata": {
        "colab": {
          "base_uri": "https://localhost:8080/"
        },
        "id": "3EtsezG-UErd",
        "outputId": "9444810b-7515-4872-818e-a644b3467a2b"
      },
      "source": [
        "x[1][1]"
      ],
      "execution_count": null,
      "outputs": [
        {
          "output_type": "execute_result",
          "data": {
            "text/plain": [
              "['ccc', 'ddd']"
            ]
          },
          "metadata": {},
          "execution_count": 6
        }
      ]
    },
    {
      "cell_type": "code",
      "metadata": {
        "colab": {
          "base_uri": "https://localhost:8080/",
          "height": 35
        },
        "id": "MkDheT_OUQgC",
        "outputId": "e5a94a71-d023-4cb5-8e1b-2dc34e454e2b"
      },
      "source": [
        "x[1][1][0]"
      ],
      "execution_count": null,
      "outputs": [
        {
          "output_type": "execute_result",
          "data": {
            "application/vnd.google.colaboratory.intrinsic+json": {
              "type": "string"
            },
            "text/plain": [
              "'ccc'"
            ]
          },
          "metadata": {},
          "execution_count": 7
        }
      ]
    },
    {
      "cell_type": "code",
      "metadata": {
        "colab": {
          "base_uri": "https://localhost:8080/"
        },
        "id": "7X9v2jv3Uo0j",
        "outputId": "4a311556-2cc0-4a42-d7fc-bbaad7300209"
      },
      "source": [
        "len(x)\n"
      ],
      "execution_count": null,
      "outputs": [
        {
          "output_type": "execute_result",
          "data": {
            "text/plain": [
              "5"
            ]
          },
          "metadata": {},
          "execution_count": 8
        }
      ]
    },
    {
      "cell_type": "code",
      "metadata": {
        "colab": {
          "base_uri": "https://localhost:8080/"
        },
        "id": "i_cb7ZpDWBkq",
        "outputId": "c311c320-b426-4a97-f179-e5ae348407cd"
      },
      "source": [
        "'ddd' in x[1][1]"
      ],
      "execution_count": null,
      "outputs": [
        {
          "output_type": "execute_result",
          "data": {
            "text/plain": [
              "True"
            ]
          },
          "metadata": {},
          "execution_count": 9
        }
      ]
    },
    {
      "cell_type": "code",
      "metadata": {
        "colab": {
          "base_uri": "https://localhost:8080/"
        },
        "id": "yIERasJGWkVA",
        "outputId": "16a73596-bb26-431d-fe97-064ca575b23a"
      },
      "source": [
        "'ddd' in x"
      ],
      "execution_count": null,
      "outputs": [
        {
          "output_type": "execute_result",
          "data": {
            "text/plain": [
              "False"
            ]
          },
          "metadata": {},
          "execution_count": 10
        }
      ]
    },
    {
      "cell_type": "code",
      "metadata": {
        "colab": {
          "base_uri": "https://localhost:8080/"
        },
        "id": "_cATIiHOWoIL",
        "outputId": "3bc8b528-5a0d-45bb-a4fc-4a1b21f9750e"
      },
      "source": [
        "a = ['foo', 'bar', 'baz', 'qux', 'quux', 'corge']\n",
        "a[2] = 10\n",
        "print(a)"
      ],
      "execution_count": null,
      "outputs": [
        {
          "output_type": "stream",
          "name": "stdout",
          "text": [
            "['foo', 'bar', 10, 'qux', 'quux', 'corge']\n"
          ]
        }
      ]
    },
    {
      "cell_type": "code",
      "metadata": {
        "colab": {
          "base_uri": "https://localhost:8080/"
        },
        "id": "ZfIuYhctb4JI",
        "outputId": "2082ca2b-72c0-4c26-cae7-6a450b84fe27"
      },
      "source": [
        "del a[3]\n",
        "print(a)"
      ],
      "execution_count": null,
      "outputs": [
        {
          "output_type": "stream",
          "name": "stdout",
          "text": [
            "['foo', 'bar', 10, 'corge']\n"
          ]
        }
      ]
    },
    {
      "cell_type": "code",
      "metadata": {
        "colab": {
          "base_uri": "https://localhost:8080/"
        },
        "id": "tx8XBI_Dh3qh",
        "outputId": "a8a921d7-2d1b-41fd-eab6-2468ab6803d9"
      },
      "source": [
        "#Modifying Multiple List Values\n",
        "a = ['foo', 'bar', 'baz', 'qux', 'quux', 'corge']\n",
        "a[1:4]"
      ],
      "execution_count": null,
      "outputs": [
        {
          "output_type": "execute_result",
          "data": {
            "text/plain": [
              "['bar', 'baz', 'qux']"
            ]
          },
          "metadata": {},
          "execution_count": 8
        }
      ]
    },
    {
      "cell_type": "code",
      "metadata": {
        "colab": {
          "base_uri": "https://localhost:8080/"
        },
        "id": "zLBJJplLiMVu",
        "outputId": "f4d646b9-eb43-4d6d-8ae0-d90b405dcbed"
      },
      "source": [
        "a[1:4] = [1.1, 2.2, 3.3, 4.4, 5.5]\n",
        "print(a)"
      ],
      "execution_count": null,
      "outputs": [
        {
          "output_type": "stream",
          "name": "stdout",
          "text": [
            "['foo', 1.1, 2.2, 3.3, 4.4, 5.5, 4.4, 5.5, 'quux', 'corge']\n"
          ]
        }
      ]
    },
    {
      "cell_type": "code",
      "metadata": {
        "colab": {
          "base_uri": "https://localhost:8080/"
        },
        "id": "uyT5M4aRiYwi",
        "outputId": "8c147e1c-1371-423e-9c3f-a47753d175e0"
      },
      "source": [
        "# insert multiple elements in place of a single element\n",
        "a = [1, 2, 3]\n",
        "a[1:2] = [2.1, 2.2, 2.3]\n",
        "print(a)"
      ],
      "execution_count": null,
      "outputs": [
        {
          "output_type": "stream",
          "name": "stdout",
          "text": [
            "[1, 2.1, 2.2, 2.3, 3]\n"
          ]
        }
      ]
    }
  ]
}