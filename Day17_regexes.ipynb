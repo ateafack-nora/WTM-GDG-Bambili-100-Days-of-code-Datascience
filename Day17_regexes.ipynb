{
  "nbformat": 4,
  "nbformat_minor": 0,
  "metadata": {
    "colab": {
      "name": "Day17-regexes.ipynb",
      "provenance": [],
      "authorship_tag": "ABX9TyN3Ct6rD1fP1BCwK4AsCGIT",
      "include_colab_link": true
    },
    "kernelspec": {
      "name": "python3",
      "display_name": "Python 3"
    },
    "language_info": {
      "name": "python"
    }
  },
  "cells": [
    {
      "cell_type": "markdown",
      "metadata": {
        "id": "view-in-github",
        "colab_type": "text"
      },
      "source": [
        "<a href=\"https://colab.research.google.com/github/ateafack-nora/WTM-GDG-Bambili-100-Days-of-code-Datascience/blob/main/Day17_regexes.ipynb\" target=\"_parent\"><img src=\"https://colab.research.google.com/assets/colab-badge.svg\" alt=\"Open In Colab\"/></a>"
      ]
    },
    {
      "cell_type": "code",
      "metadata": {
        "colab": {
          "base_uri": "https://localhost:8080/"
        },
        "id": "nF8gqYuGX_fO",
        "outputId": "88780ee9-cae0-48ea-9f48-8a81f4af4652"
      },
      "source": [
        "#Regular expressions (regexes)\n",
        "s = 'good127girl'\n",
        "print('127' in s)"
      ],
      "execution_count": 3,
      "outputs": [
        {
          "output_type": "stream",
          "name": "stdout",
          "text": [
            "True\n"
          ]
        }
      ]
    },
    {
      "cell_type": "code",
      "metadata": {
        "colab": {
          "base_uri": "https://localhost:8080/"
        },
        "id": "ag7JG9HWandN",
        "outputId": "9c4ef76d-8a09-417b-86fa-f2dededca0b2"
      },
      "source": [
        "s = 'good127girl'\n",
        "import re\n",
        "print(re.search('127', s))"
      ],
      "execution_count": 5,
      "outputs": [
        {
          "output_type": "stream",
          "name": "stdout",
          "text": [
            "<re.Match object; span=(4, 7), match='127'>\n"
          ]
        }
      ]
    },
    {
      "cell_type": "code",
      "metadata": {
        "colab": {
          "base_uri": "https://localhost:8080/"
        },
        "id": "x5G1qmDGfms2",
        "outputId": "a3659b83-a66e-4b82-e811-c19b00bd9d9b"
      },
      "source": [
        " if re.search('134', s):\n",
        "     print('Found a match.')\n",
        " else:\n",
        "     print('No match.')"
      ],
      "execution_count": 8,
      "outputs": [
        {
          "output_type": "stream",
          "name": "stdout",
          "text": [
            "No match.\n"
          ]
        }
      ]
    },
    {
      "cell_type": "code",
      "metadata": {
        "colab": {
          "base_uri": "https://localhost:8080/"
        },
        "id": "73HcIOKmf4Ft",
        "outputId": "e1bf4b33-610c-48eb-b1d6-4ae9002e0930"
      },
      "source": [
        "print(re.search('[0-9][0-9][0-9]', s))"
      ],
      "execution_count": 10,
      "outputs": [
        {
          "output_type": "execute_result",
          "data": {
            "text/plain": [
              "<re.Match object; span=(4, 7), match='127'>"
            ]
          },
          "metadata": {},
          "execution_count": 10
        }
      ]
    },
    {
      "cell_type": "code",
      "metadata": {
        "colab": {
          "base_uri": "https://localhost:8080/"
        },
        "id": "KHd23bWDmQ_8",
        "outputId": "fc4b27d0-536e-4e47-b824-beb82cc19a9f"
      },
      "source": [
        "print(re.search('[0-9][0-9][0-9]', '12good34'))"
      ],
      "execution_count": 12,
      "outputs": [
        {
          "output_type": "stream",
          "name": "stdout",
          "text": [
            "None\n"
          ]
        }
      ]
    },
    {
      "cell_type": "code",
      "metadata": {
        "colab": {
          "base_uri": "https://localhost:8080/"
        },
        "id": "beZNJYm0mawM",
        "outputId": "9b3d30bc-4bbd-483d-c48d-4d91860c1867"
      },
      "source": [
        "x = 'GOOD123girl'\n",
        "print( re.search('[a-z][a-z]', x))\n",
        "print(re.search('[0-9][0-9][0-9]', x))\n",
        "print(re.search('[0-9a-fA-f]', x))\n",
        "print(re.search('[^0-9]', x))"
      ],
      "execution_count": 21,
      "outputs": [
        {
          "output_type": "stream",
          "name": "stdout",
          "text": [
            "<re.Match object; span=(7, 9), match='gi'>\n",
            "<re.Match object; span=(4, 7), match='123'>\n",
            "<re.Match object; span=(0, 1), match='G'>\n",
            "<re.Match object; span=(0, 1), match='G'>\n"
          ]
        }
      ]
    },
    {
      "cell_type": "code",
      "metadata": {
        "id": "ojUYvaksFGNf",
        "outputId": "3ab57d9e-e9fd-4e95-dad1-c07f2ed88850",
        "colab": {
          "base_uri": "https://localhost:8080/"
        }
      },
      "source": [
        "#\\w is the same as a-zA-Z0-9_ \n",
        "print(re.search('\\w', '#(.a$@&'))\n",
        "print(re.search('[a-zA-Z0-9_]', '#(.b$@&'))\n"
      ],
      "execution_count": 27,
      "outputs": [
        {
          "output_type": "stream",
          "name": "stdout",
          "text": [
            "<re.Match object; span=(3, 4), match='a'>\n",
            "<re.Match object; span=(3, 4), match='b'>\n"
          ]
        }
      ]
    },
    {
      "cell_type": "code",
      "metadata": {
        "id": "N7e91kSkF7OB",
        "outputId": "4fb19211-adfe-44c8-8327-ff41f0ed32d0",
        "colab": {
          "base_uri": "https://localhost:8080/"
        }
      },
      "source": [
        "#\\W  matches any non-word character\n",
        "print(re.search('\\W', 'a_1*3Qb'))\n",
        "print(re.search('[^a-zA-Z0-9_]', 'a_1+3Qb'))"
      ],
      "execution_count": 28,
      "outputs": [
        {
          "output_type": "stream",
          "name": "stdout",
          "text": [
            "<re.Match object; span=(3, 4), match='*'>\n",
            "<re.Match object; span=(3, 4), match='+'>\n"
          ]
        }
      ]
    },
    {
      "cell_type": "code",
      "metadata": {
        "id": "xDVszyhJGZ2Y",
        "outputId": "cb82da4d-8fc8-4aa5-9d6a-fe6f1fd23188",
        "colab": {
          "base_uri": "https://localhost:8080/"
        }
      },
      "source": [
        "#\\d matches any decimal digit character\n",
        "print(re.search('\\d', 'abc4def'))\n",
        "# \\D matches any character that isn’t a decimal digit\n",
        "print(re.search('\\D', '234Q678'))\n",
        "#\\s matches any whitespace character\n",
        "print(re.search('\\s', 'foo\\nbar baz'))"
      ],
      "execution_count": 32,
      "outputs": [
        {
          "output_type": "stream",
          "name": "stdout",
          "text": [
            "<re.Match object; span=(3, 4), match='4'>\n",
            "<re.Match object; span=(3, 4), match='Q'>\n",
            "<re.Match object; span=(3, 4), match='\\n'>\n"
          ]
        }
      ]
    }
  ]
}