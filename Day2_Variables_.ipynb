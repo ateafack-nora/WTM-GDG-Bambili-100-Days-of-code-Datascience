{
  "nbformat": 4,
  "nbformat_minor": 0,
  "metadata": {
    "colab": {
      "name": "Day2:Variables .ipynb",
      "provenance": [],
      "authorship_tag": "ABX9TyOGdEOFKu1f6ZAZy+VyMIqc",
      "include_colab_link": true
    },
    "kernelspec": {
      "name": "python3",
      "display_name": "Python 3"
    },
    "language_info": {
      "name": "python"
    }
  },
  "cells": [
    {
      "cell_type": "markdown",
      "metadata": {
        "id": "view-in-github",
        "colab_type": "text"
      },
      "source": [
        "<a href=\"https://colab.research.google.com/github/ateafack-nora/WTM-GDG-Bambili-100-Days-of-code-Datascience/blob/main/Day2_Variables_.ipynb\" target=\"_parent\"><img src=\"https://colab.research.google.com/assets/colab-badge.svg\" alt=\"Open In Colab\"/></a>"
      ]
    },
    {
      "cell_type": "code",
      "metadata": {
        "colab": {
          "base_uri": "https://localhost:8080/"
        },
        "id": "oJgQjc1rA2c2",
        "outputId": "4422194f-b696-4a5a-9106-fd26d7e6af2d"
      },
      "source": [
        "print('Hello World')\n"
      ],
      "execution_count": 1,
      "outputs": [
        {
          "output_type": "stream",
          "text": [
            "Hello World\n"
          ],
          "name": "stdout"
        }
      ]
    },
    {
      "cell_type": "markdown",
      "metadata": {
        "id": "SDQrOGIRFP0w"
      },
      "source": [
        ""
      ]
    },
    {
      "cell_type": "code",
      "metadata": {
        "id": "gzhALOOnFR8Y"
      },
      "source": [
        "sample_variable=None"
      ],
      "execution_count": 1,
      "outputs": []
    },
    {
      "cell_type": "code",
      "metadata": {
        "id": "XFuNLrucMOFD"
      },
      "source": [
        "name=\"john\""
      ],
      "execution_count": 2,
      "outputs": []
    },
    {
      "cell_type": "code",
      "metadata": {
        "id": "n1j-BdFtMg88"
      },
      "source": [
        "#-name-=\"nora\"variable name can not start or end with an underscore\n",
        "#7Age= 10 variable name can not start with a digit\n",
        "#average+height= 15 contains \"+\" which is not permited in a variable name\n",
        "#my name=\"nora\"spaces are not permited in variable name and can only be seperated with an underscore\n",
        "\n"
      ],
      "execution_count": 1,
      "outputs": []
    },
    {
      "cell_type": "code",
      "metadata": {
        "id": "2uSFmbmIQdNr"
      },
      "source": [
        "sample_variable=\"Hello world\""
      ],
      "execution_count": 5,
      "outputs": []
    },
    {
      "cell_type": "code",
      "metadata": {
        "colab": {
          "base_uri": "https://localhost:8080/"
        },
        "id": "dar-CdvcRt24",
        "outputId": "c9f28896-d1e9-461e-db61-5327604ba916"
      },
      "source": [
        "print(sample_variable)"
      ],
      "execution_count": 6,
      "outputs": [
        {
          "output_type": "stream",
          "text": [
            "Hello world\n"
          ],
          "name": "stdout"
        }
      ]
    }
  ]
}