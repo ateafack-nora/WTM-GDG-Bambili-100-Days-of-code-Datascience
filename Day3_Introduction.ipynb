{
  "nbformat": 4,
  "nbformat_minor": 0,
  "metadata": {
    "colab": {
      "name": "Day3:Introduction.ipynb",
      "provenance": [],
      "authorship_tag": "ABX9TyPsFN7mQrssu7vImh1fMxq/",
      "include_colab_link": true
    },
    "kernelspec": {
      "name": "python3",
      "display_name": "Python 3"
    },
    "language_info": {
      "name": "python"
    }
  },
  "cells": [
    {
      "cell_type": "markdown",
      "metadata": {
        "id": "view-in-github",
        "colab_type": "text"
      },
      "source": [
        "<a href=\"https://colab.research.google.com/github/ateafack-nora/WTM-GDG-Bambili-100-Days-of-code-Datascience/blob/main/Day3_Introduction.ipynb\" target=\"_parent\"><img src=\"https://colab.research.google.com/assets/colab-badge.svg\" alt=\"Open In Colab\"/></a>"
      ]
    },
    {
      "cell_type": "code",
      "metadata": {
        "colab": {
          "base_uri": "https://localhost:8080/"
        },
        "id": "oJgQjc1rA2c2",
        "outputId": "4422194f-b696-4a5a-9106-fd26d7e6af2d"
      },
      "source": [
        "print('Hello World')\n"
      ],
      "execution_count": null,
      "outputs": [
        {
          "output_type": "stream",
          "text": [
            "Hello World\n"
          ],
          "name": "stdout"
        }
      ]
    },
    {
      "cell_type": "markdown",
      "metadata": {
        "id": "SDQrOGIRFP0w"
      },
      "source": [
        ""
      ]
    },
    {
      "cell_type": "code",
      "metadata": {
        "id": "gzhALOOnFR8Y"
      },
      "source": [
        "sample_variable=None"
      ],
      "execution_count": null,
      "outputs": []
    },
    {
      "cell_type": "code",
      "metadata": {
        "id": "XFuNLrucMOFD"
      },
      "source": [
        "name=\"john\""
      ],
      "execution_count": null,
      "outputs": []
    },
    {
      "cell_type": "code",
      "metadata": {
        "id": "n1j-BdFtMg88"
      },
      "source": [
        "#-name-=\"nora\"variable name can not start or end with an underscore\n",
        "#7Age= 10 variable name can not start with a digit\n",
        "#average+height= 15 contains \"+\" which is not permited in a variable name\n",
        "#my name=\"nora\"spaces are not permited in variable name and can only be seperated with an underscore\n",
        "\n"
      ],
      "execution_count": null,
      "outputs": []
    },
    {
      "cell_type": "code",
      "metadata": {
        "id": "k3tlKb5ljfI3"
      },
      "source": [
        ""
      ],
      "execution_count": null,
      "outputs": []
    },
    {
      "cell_type": "code",
      "metadata": {
        "id": "2uSFmbmIQdNr"
      },
      "source": [
        "sample_variable=\"Hello world\""
      ],
      "execution_count": null,
      "outputs": []
    },
    {
      "cell_type": "code",
      "metadata": {
        "colab": {
          "base_uri": "https://localhost:8080/"
        },
        "id": "dar-CdvcRt24",
        "outputId": "c9f28896-d1e9-461e-db61-5327604ba916"
      },
      "source": [
        "print(sample_variable)"
      ],
      "execution_count": null,
      "outputs": [
        {
          "output_type": "stream",
          "text": [
            "Hello world\n"
          ],
          "name": "stdout"
        }
      ]
    },
    {
      "cell_type": "code",
      "metadata": {
        "colab": {
          "base_uri": "https://localhost:8080/"
        },
        "id": "th9WMeGbjjcK",
        "outputId": "1120d466-5b69-45ed-a6ce-7686ceb0f0b3"
      },
      "source": [
        "answer=1+1\n",
        "print(answer)"
      ],
      "execution_count": null,
      "outputs": [
        {
          "output_type": "stream",
          "text": [
            "2\n"
          ],
          "name": "stdout"
        }
      ]
    },
    {
      "cell_type": "code",
      "metadata": {
        "colab": {
          "base_uri": "https://localhost:8080/"
        },
        "id": "bmcWT_5Rl1-K",
        "outputId": "1283637f-b2ca-4b28-9f04-c0cf964b5d48"
      },
      "source": [
        "var1=2+2\n",
        "print(var1)\n",
        "#var1 is an interger"
      ],
      "execution_count": 3,
      "outputs": [
        {
          "output_type": "stream",
          "text": [
            "4\n"
          ],
          "name": "stdout"
        }
      ]
    },
    {
      "cell_type": "markdown",
      "metadata": {
        "id": "miUoQ_m_xLSa"
      },
      "source": [
        "Addition of two intergers\n"
      ]
    },
    {
      "cell_type": "code",
      "metadata": {
        "colab": {
          "base_uri": "https://localhost:8080/"
        },
        "id": "mDqpVB-Cn_lF",
        "outputId": "6a6dfaae-9063-46e0-8f4d-4259146ed04a"
      },
      "source": [
        "var2=3+2/5\n",
        "print(var2)\n",
        "# var2 is a float"
      ],
      "execution_count": 5,
      "outputs": [
        {
          "output_type": "stream",
          "text": [
            "3.4\n"
          ],
          "name": "stdout"
        }
      ]
    },
    {
      "cell_type": "markdown",
      "metadata": {
        "id": "Wn0-Vp4WxkgQ"
      },
      "source": [
        "adding an interger to float"
      ]
    },
    {
      "cell_type": "code",
      "metadata": {
        "colab": {
          "base_uri": "https://localhost:8080/"
        },
        "id": "IHmghv5WorVH",
        "outputId": "f5056dcb-795a-490a-c88c-b1cbbb59edb9"
      },
      "source": [
        "var3=4*16\n",
        "print(var3)\n",
        "#var3 is an interger"
      ],
      "execution_count": 7,
      "outputs": [
        {
          "output_type": "stream",
          "text": [
            "64\n"
          ],
          "name": "stdout"
        }
      ]
    },
    {
      "cell_type": "markdown",
      "metadata": {
        "id": "WHHwh2zdx1qU"
      },
      "source": [
        "Multiplication of two intergers"
      ]
    },
    {
      "cell_type": "code",
      "metadata": {
        "colab": {
          "base_uri": "https://localhost:8080/"
        },
        "id": "b3ZJRcJ-pV1H",
        "outputId": "8718ea24-b530-43a1-a7ad-5e186f713363"
      },
      "source": [
        "var4=4^6\n",
        "print(var4)\n",
        "#var4 is an interger"
      ],
      "execution_count": 9,
      "outputs": [
        {
          "output_type": "stream",
          "text": [
            "2\n"
          ],
          "name": "stdout"
        }
      ]
    },
    {
      "cell_type": "markdown",
      "metadata": {
        "id": "u5RThcIJx97l"
      },
      "source": [
        "4 is been raised to the power 6"
      ]
    },
    {
      "cell_type": "code",
      "metadata": {
        "colab": {
          "base_uri": "https://localhost:8080/"
        },
        "id": "gnXAHtw_p6K7",
        "outputId": "a241d1f8-e0c8-47f6-892a-a9b2cf09a9fe"
      },
      "source": [
        "var5= 'Hello' + ' '+'world'\n",
        "print(var5)\n",
        "#var5 is a string"
      ],
      "execution_count": 11,
      "outputs": [
        {
          "output_type": "stream",
          "text": [
            "Hello world\n"
          ],
          "name": "stdout"
        }
      ]
    },
    {
      "cell_type": "markdown",
      "metadata": {
        "id": "Hw-UMPzaye-6"
      },
      "source": [
        "concatination of three stings"
      ]
    },
    {
      "cell_type": "code",
      "metadata": {
        "colab": {
          "base_uri": "https://localhost:8080/"
        },
        "id": "4La8mv6esMbL",
        "outputId": "5b212d98-157a-495a-8135-90bf5d0f449c"
      },
      "source": [
        "var6='Hello World'*5\n",
        "print(var6)\n",
        "# var6 is a string"
      ],
      "execution_count": 13,
      "outputs": [
        {
          "output_type": "stream",
          "text": [
            "Hello WorldHello WorldHello WorldHello WorldHello World\n"
          ],
          "name": "stdout"
        }
      ]
    },
    {
      "cell_type": "markdown",
      "metadata": {
        "id": "X2U_SWd2ypY6"
      },
      "source": [
        "printing out the string Hello World five times"
      ]
    },
    {
      "cell_type": "code",
      "metadata": {
        "colab": {
          "base_uri": "https://localhost:8080/"
        },
        "id": "Rjfv8AVHtEI7",
        "outputId": "68c0ea0e-9351-41f4-e515-778f5c06a4a1"
      },
      "source": [
        "var7 =4%3\n",
        "print(var7)\n",
        "#var7 is an interger"
      ],
      "execution_count": 17,
      "outputs": [
        {
          "output_type": "stream",
          "text": [
            "1\n"
          ],
          "name": "stdout"
        }
      ]
    },
    {
      "cell_type": "markdown",
      "metadata": {
        "id": "q-3tQ9tny6t4"
      },
      "source": [
        "performing the calculation 4 mod 3"
      ]
    }
  ]
}