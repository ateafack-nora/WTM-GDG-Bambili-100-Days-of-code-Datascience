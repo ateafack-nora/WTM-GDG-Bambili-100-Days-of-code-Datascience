{
  "nbformat": 4,
  "nbformat_minor": 0,
  "metadata": {
    "colab": {
      "name": "Day5:Elements in list.ipynb",
      "provenance": [],
      "authorship_tag": "ABX9TyP3XBulRC3DOYNgZaFRyce+",
      "include_colab_link": true
    },
    "kernelspec": {
      "name": "python3",
      "display_name": "Python 3"
    },
    "language_info": {
      "name": "python"
    }
  },
  "cells": [
    {
      "cell_type": "markdown",
      "metadata": {
        "id": "view-in-github",
        "colab_type": "text"
      },
      "source": [
        "<a href=\"https://colab.research.google.com/github/ateafack-nora/WTM-GDG-Bambili-100-Days-of-code-Datascience/blob/main/Day5_Elements_in_list.ipynb\" target=\"_parent\"><img src=\"https://colab.research.google.com/assets/colab-badge.svg\" alt=\"Open In Colab\"/></a>"
      ]
    },
    {
      "cell_type": "code",
      "metadata": {
        "colab": {
          "base_uri": "https://localhost:8080/"
        },
        "id": "UPThmYMv1i6M",
        "outputId": "1568c583-0fab-407a-ef2f-67e25ea216a1"
      },
      "source": [
        "listindex1 = (2,4,6,8, 10)\n",
        "print(listindex1[0])"
      ],
      "execution_count": 2,
      "outputs": [
        {
          "output_type": "stream",
          "name": "stdout",
          "text": [
            "2\n"
          ]
        }
      ]
    },
    {
      "cell_type": "code",
      "metadata": {
        "colab": {
          "base_uri": "https://localhost:8080/",
          "height": 181
        },
        "id": "wP_Ock5-2KZj",
        "outputId": "dfff9c77-945f-4838-dbb3-721d1810c773"
      },
      "source": [
        "print(listindex[8])\n",
        "#the list does not not have up to 8 element, so it will display an error"
      ],
      "execution_count": 4,
      "outputs": [
        {
          "output_type": "error",
          "ename": "NameError",
          "evalue": "ignored",
          "traceback": [
            "\u001b[0;31m---------------------------------------------------------------------------\u001b[0m",
            "\u001b[0;31mNameError\u001b[0m                                 Traceback (most recent call last)",
            "\u001b[0;32m<ipython-input-4-058d99b1dc53>\u001b[0m in \u001b[0;36m<module>\u001b[0;34m()\u001b[0m\n\u001b[0;32m----> 1\u001b[0;31m \u001b[0mprint\u001b[0m\u001b[0;34m(\u001b[0m\u001b[0mlistindex\u001b[0m\u001b[0;34m[\u001b[0m\u001b[0;36m8\u001b[0m\u001b[0;34m]\u001b[0m\u001b[0;34m)\u001b[0m\u001b[0;34m\u001b[0m\u001b[0;34m\u001b[0m\u001b[0m\n\u001b[0m\u001b[1;32m      2\u001b[0m \u001b[0;31m#the list does not not have up to 8 element, so it will display an error\u001b[0m\u001b[0;34m\u001b[0m\u001b[0;34m\u001b[0m\u001b[0;34m\u001b[0m\u001b[0m\n",
            "\u001b[0;31mNameError\u001b[0m: name 'listindex' is not defined"
          ]
        }
      ]
    },
    {
      "cell_type": "code",
      "metadata": {
        "id": "aUsIGL5N37rq",
        "outputId": "7752551f-d5a6-4a44-ed3b-5e1788e04816",
        "colab": {
          "base_uri": "https://localhost:8080/"
        }
      },
      "source": [
        "var1 = listindex1[4]\n",
        "print (var1)"
      ],
      "execution_count": 10,
      "outputs": [
        {
          "output_type": "stream",
          "name": "stdout",
          "text": [
            "10\n"
          ]
        }
      ]
    },
    {
      "cell_type": "markdown",
      "metadata": {
        "id": "cWJgSrin6woP"
      },
      "source": [
        "it will display index out of range because the list does not have up to 12th element"
      ]
    },
    {
      "cell_type": "code",
      "metadata": {
        "id": "XHgeFwxc53W-",
        "outputId": "c46d8be0-7e9a-4866-bca4-572a389211b3",
        "colab": {
          "base_uri": "https://localhost:8080/"
        }
      },
      "source": [
        "listindex2 = listindex1[4:6]\n",
        "print (listindex2)"
      ],
      "execution_count": 15,
      "outputs": [
        {
          "output_type": "stream",
          "name": "stdout",
          "text": [
            "(10,)\n"
          ]
        }
      ]
    }
  ]
}