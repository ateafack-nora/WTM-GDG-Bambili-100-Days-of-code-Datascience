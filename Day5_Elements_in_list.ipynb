{
  "nbformat": 4,
  "nbformat_minor": 0,
  "metadata": {
    "colab": {
      "name": "Day5:Elements in list.ipynb",
      "provenance": [],
      "authorship_tag": "ABX9TyMrq/w/EdTNl70A58gTaYym",
      "include_colab_link": true
    },
    "kernelspec": {
      "name": "python3",
      "display_name": "Python 3"
    },
    "language_info": {
      "name": "python"
    }
  },
  "cells": [
    {
      "cell_type": "markdown",
      "metadata": {
        "id": "view-in-github",
        "colab_type": "text"
      },
      "source": [
        "<a href=\"https://colab.research.google.com/github/ateafack-nora/WTM-GDG-Bambili-100-Days-of-code-Datascience/blob/main/Day5_Elements_in_list.ipynb\" target=\"_parent\"><img src=\"https://colab.research.google.com/assets/colab-badge.svg\" alt=\"Open In Colab\"/></a>"
      ]
    },
    {
      "cell_type": "code",
      "metadata": {
        "colab": {
          "base_uri": "https://localhost:8080/"
        },
        "id": "UPThmYMv1i6M",
        "outputId": "1568c583-0fab-407a-ef2f-67e25ea216a1"
      },
      "source": [
        "listindex1 = (2,4,6,8, 10)\n",
        "print(listindex1[0])"
      ],
      "execution_count": 2,
      "outputs": [
        {
          "output_type": "stream",
          "name": "stdout",
          "text": [
            "2\n"
          ]
        }
      ]
    },
    {
      "cell_type": "code",
      "metadata": {
        "id": "wP_Ock5-2KZj"
      },
      "source": [
        "#print(listindex1[8])\n",
        "#the list does not not have up to 8 element, so it will display an out of range error"
      ],
      "execution_count": 17,
      "outputs": []
    },
    {
      "cell_type": "code",
      "metadata": {
        "colab": {
          "base_uri": "https://localhost:8080/"
        },
        "id": "aUsIGL5N37rq",
        "outputId": "7752551f-d5a6-4a44-ed3b-5e1788e04816"
      },
      "source": [
        "var1 = listindex1[4]\n",
        "print (var1)"
      ],
      "execution_count": 10,
      "outputs": [
        {
          "output_type": "stream",
          "name": "stdout",
          "text": [
            "10\n"
          ]
        }
      ]
    },
    {
      "cell_type": "markdown",
      "metadata": {
        "id": "cWJgSrin6woP"
      },
      "source": [
        "it will display index out of range because the list does not have up to 12th element"
      ]
    },
    {
      "cell_type": "code",
      "metadata": {
        "colab": {
          "base_uri": "https://localhost:8080/"
        },
        "id": "XHgeFwxc53W-",
        "outputId": "822846a7-3e62-4cb9-ce8e-1ca2eeb318ef"
      },
      "source": [
        "listindex1 = (2,4,6,8, 10)\n",
        "listindex2 = listindex1[3:5]\n",
        "print (listindex2)"
      ],
      "execution_count": 3,
      "outputs": [
        {
          "output_type": "stream",
          "name": "stdout",
          "text": [
            "(8, 10)\n"
          ]
        }
      ]
    }
  ]
}