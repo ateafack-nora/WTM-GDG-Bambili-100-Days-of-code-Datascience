{
  "nbformat": 4,
  "nbformat_minor": 0,
  "metadata": {
    "colab": {
      "name": "Day6-Sets.ipynb",
      "provenance": [],
      "authorship_tag": "ABX9TyMRS0Av4wE6yueWi19y3yjF",
      "include_colab_link": true
    },
    "kernelspec": {
      "display_name": "Python 3",
      "name": "python3"
    },
    "language_info": {
      "name": "python"
    }
  },
  "cells": [
    {
      "cell_type": "markdown",
      "metadata": {
        "id": "view-in-github",
        "colab_type": "text"
      },
      "source": [
        "<a href=\"https://colab.research.google.com/github/ateafack-nora/WTM-GDG-Bambili-100-Days-of-code-Datascience/blob/main/Day6_Sets.ipynb\" target=\"_parent\"><img src=\"https://colab.research.google.com/assets/colab-badge.svg\" alt=\"Open In Colab\"/></a>"
      ]
    },
    {
      "cell_type": "code",
      "metadata": {
        "id": "wP_Ock5-2KZj",
        "colab": {
          "base_uri": "https://localhost:8080/"
        },
        "outputId": "ae1caad2-2063-41e2-c52f-dd0c5d4bf177"
      },
      "source": [
        "#definition of a set\n",
        "x = set(['foo', 'bar', 'baz', 'foo', 'qux'])\n",
        "print(x)\n",
        "#a set can also be define  with the {}\n",
        "x2 =  {'foo', 'bar', 'baz', 'foo', 'qux'}\n",
        "print(x2)\n",
        " "
      ],
      "execution_count": 9,
      "outputs": [
        {
          "output_type": "stream",
          "name": "stdout",
          "text": [
            "{'foo', 'bar', 'qux', 'baz'}\n",
            "{'foo', 'bar', 'qux', 'baz'}\n"
          ]
        }
      ]
    },
    {
      "cell_type": "code",
      "metadata": {
        "colab": {
          "base_uri": "https://localhost:8080/"
        },
        "id": "U8qFotvrq23S",
        "outputId": "9f80d664-ecae-41f6-9943-239f4503bb71"
      },
      "source": [
        " s = 'quux'\n",
        "\n",
        "list(s)\n",
        "set(s)\n",
        "print(list(s))\n",
        "print(set(s))"
      ],
      "execution_count": 11,
      "outputs": [
        {
          "output_type": "stream",
          "name": "stdout",
          "text": [
            "['q', 'u', 'u', 'x']\n",
            "{'q', 'u', 'x'}\n"
          ]
        }
      ]
    },
    {
      "cell_type": "markdown",
      "metadata": {
        "id": "EaxIcXOUdqko"
      },
      "source": [
        "list(s) generates a list of the characters in the string s while\n",
        "set(s) generates a set of the characters in s"
      ]
    },
    {
      "cell_type": "code",
      "metadata": {
        "colab": {
          "base_uri": "https://localhost:8080/"
        },
        "id": "VCB33cGod9yH",
        "outputId": "4eab1bc7-3759-4b49-99a5-16e0479ceafb"
      },
      "source": [
        " x = {42, 'foo', 3.14159, None}\n",
        "print(x)\n",
        "\n"
      ],
      "execution_count": 12,
      "outputs": [
        {
          "output_type": "stream",
          "name": "stdout",
          "text": [
            "{3.14159, 42, 'foo', None}\n"
          ]
        }
      ]
    },
    {
      "cell_type": "markdown",
      "metadata": {
        "id": "ZRMGCXWg5GH2"
      },
      "source": [
        "elements in a set can be objects of different types: float, int, string\n",
        "\n"
      ]
    },
    {
      "cell_type": "code",
      "metadata": {
        "colab": {
          "base_uri": "https://localhost:8080/"
        },
        "id": "4doB-zlH5dIU",
        "outputId": "20a90006-0ab5-4447-bcd3-c8dbea992b2c"
      },
      "source": [
        "#len() function returns the number of elements in a set\n",
        "x = {'foo', 'bar', 'baz'}\n",
        "print( len(x))\n",
        "#in operators  used to test for membership in a set\n",
        "x1= {'foo', 'bar', 'baz'}\n",
        "'bar' in x1\n",
        "\n"
      ],
      "execution_count": 12,
      "outputs": [
        {
          "output_type": "stream",
          "name": "stdout",
          "text": [
            "3\n"
          ]
        },
        {
          "output_type": "execute_result",
          "data": {
            "text/plain": [
              "True"
            ]
          },
          "metadata": {},
          "execution_count": 12
        }
      ]
    },
    {
      "cell_type": "code",
      "metadata": {
        "colab": {
          "base_uri": "https://localhost:8080/"
        },
        "id": "-mKmt0E18Dc7",
        "outputId": "78c054ad-1573-471f-c7d8-506a8ef19f5f"
      },
      "source": [
        "#in operators  used to test for membership in a set\n",
        "x2 = {'foo', 'bar', 'baz'}\n",
        "'qux' in x2"
      ],
      "execution_count": 13,
      "outputs": [
        {
          "output_type": "execute_result",
          "data": {
            "text/plain": [
              "False"
            ]
          },
          "metadata": {},
          "execution_count": 13
        }
      ]
    },
    {
      "cell_type": "code",
      "metadata": {
        "colab": {
          "base_uri": "https://localhost:8080/"
        },
        "id": "V6rRx6KP8Skq",
        "outputId": "c87e2d43-a9b6-44f9-8e38-ddf38df99522"
      },
      "source": [
        " #set union can be performed with the | operator:\n",
        " x1 = {'foo', 'bar', 'baz'}\n",
        " x2 = {'baz', 'qux', 'quux'}\n",
        " print(x1 | x2)"
      ],
      "execution_count": 16,
      "outputs": [
        {
          "output_type": "stream",
          "name": "stdout",
          "text": [
            "{'foo', 'qux', 'baz', 'bar', 'quux'}\n"
          ]
        }
      ]
    },
    {
      "cell_type": "code",
      "metadata": {
        "colab": {
          "base_uri": "https://localhost:8080/"
        },
        "id": "AoFLqmHB946s",
        "outputId": "2a1879f6-cca3-4e58-f910-ae9b5d6f0fff"
      },
      "source": [
        "#Set union can also be obtained with the .union() method\n",
        "x1 = {'foo', 'bar', 'baz'}\n",
        "x2 = {'baz', 'qux', 'quux'}\n",
        "print(x1.union(x2))"
      ],
      "execution_count": 19,
      "outputs": [
        {
          "output_type": "stream",
          "name": "stdout",
          "text": [
            "{'foo', 'qux', 'baz', 'bar', 'quux'}\n"
          ]
        }
      ]
    },
    {
      "cell_type": "markdown",
      "metadata": {
        "id": "bGEdtKUX-oxn"
      },
      "source": [
        "sets never contain duplicate values\n"
      ]
    },
    {
      "cell_type": "code",
      "metadata": {
        "colab": {
          "base_uri": "https://localhost:8080/"
        },
        "id": "1Ty8reiK-xIx",
        "outputId": "f29198a6-01e3-4447-85ec-7c50ca2edc21"
      },
      "source": [
        "#union of the set with the operator\n",
        "a = {1, 2, 3, 4}\n",
        "b = {2, 3, 4, 5}\n",
        "c = {3, 4, 5, 6}\n",
        "d = {4, 5, 6, 7}\n",
        "print(a.union(b, c, d))\n"
      ],
      "execution_count": 21,
      "outputs": [
        {
          "output_type": "stream",
          "name": "stdout",
          "text": [
            "{1, 2, 3, 4, 5, 6, 7}\n"
          ]
        }
      ]
    },
    {
      "cell_type": "code",
      "metadata": {
        "colab": {
          "base_uri": "https://localhost:8080/"
        },
        "id": "poPLwKxBHb73",
        "outputId": "b2724cec-c402-4bb3-91d3-4b4d738bacdc"
      },
      "source": [
        "#union of the set with the method\n",
        "a = {1, 2, 3, 4}\n",
        "b = {2, 3, 4, 5}\n",
        "c = {3, 4, 5, 6}\n",
        "d = {4, 5, 6, 7}\n",
        "print(a | b | c | d)"
      ],
      "execution_count": 23,
      "outputs": [
        {
          "output_type": "stream",
          "name": "stdout",
          "text": [
            "{1, 2, 3, 4, 5, 6, 7}\n"
          ]
        }
      ]
    },
    {
      "cell_type": "code",
      "metadata": {
        "colab": {
          "base_uri": "https://localhost:8080/"
        },
        "id": "M7tUn87PK0DF",
        "outputId": "02985d9a-1319-4f4e-c185-09724132a94f"
      },
      "source": [
        "# using the operator\n",
        "x1 = {'foo', 'bar', 'baz'}\n",
        "x2 = {'baz', 'qux', 'quux'}\n",
        "print(x1 & x2)\n",
        "# using the method\n",
        "print(x1.intersection(x2))\n"
      ],
      "execution_count": 26,
      "outputs": [
        {
          "output_type": "stream",
          "name": "stdout",
          "text": [
            "{'baz'}\n",
            "{'baz'}\n"
          ]
        }
      ]
    },
    {
      "cell_type": "markdown",
      "metadata": {
        "id": "lSb2ylHrMaX4"
      },
      "source": [
        "set intersection with the operator and method"
      ]
    },
    {
      "cell_type": "code",
      "metadata": {
        "id": "4FN7wJ7vMjLo",
        "outputId": "5a8ade29-3aab-44c5-c3e9-85068448cfa9",
        "colab": {
          "base_uri": "https://localhost:8080/"
        }
      },
      "source": [
        "#multiple sets with the intersection method and operator\n",
        "a = {1, 2, 3, 4}\n",
        "b = {2, 3, 4, 5}\n",
        "c = {3, 4, 5, 6}\n",
        "d = {4, 5, 6, 7}\n",
        "#operator\n",
        "print(a & b & c & d)\n",
        "#method\n",
        "print( a.intersection(b, c, d))"
      ],
      "execution_count": 28,
      "outputs": [
        {
          "output_type": "stream",
          "name": "stdout",
          "text": [
            "{4}\n",
            "{4}\n"
          ]
        }
      ]
    },
    {
      "cell_type": "code",
      "metadata": {
        "id": "md3td36QPQSt",
        "outputId": "411c8e70-ebad-46ae-abea-5408ff079676",
        "colab": {
          "base_uri": "https://localhost:8080/"
        }
      },
      "source": [
        "a = {1, 2, 3, 30, 300}\n",
        "b = {10, 20, 30, 40}\n",
        "c = {100, 200, 300, 400}\n",
        "#with the operator\n",
        "print(a - b - c)\n",
        " # with the method\n",
        "print( a.difference(b, c))\n"
      ],
      "execution_count": 30,
      "outputs": [
        {
          "output_type": "stream",
          "name": "stdout",
          "text": [
            "{1, 2, 3}\n",
            "{1, 2, 3}\n"
          ]
        }
      ]
    },
    {
      "cell_type": "markdown",
      "metadata": {
        "id": "97W7dMfgQhQW"
      },
      "source": [
        "set difference using the operator and method"
      ]
    },
    {
      "cell_type": "code",
      "metadata": {
        "id": "a-hVcgv3Qolx",
        "outputId": "5679aa03-9938-435e-9be2-3bb58a3be9c5",
        "colab": {
          "base_uri": "https://localhost:8080/"
        }
      },
      "source": [
        "#Set Symmetric Difference\n",
        "x1 = {'foo', 'bar', 'baz'}\n",
        "x2 = {'baz', 'qux', 'quux'}\n",
        "#with the method\n",
        "print(x1.symmetric_difference(x2))\n",
        "# with the operator\n",
        "print(x1 ^ x2)\n"
      ],
      "execution_count": 32,
      "outputs": [
        {
          "output_type": "stream",
          "name": "stdout",
          "text": [
            "{'qux', 'bar', 'foo', 'quux'}\n",
            "{'qux', 'bar', 'foo', 'quux'}\n"
          ]
        }
      ]
    },
    {
      "cell_type": "code",
      "metadata": {
        "id": "7K_c1tycS1EX",
        "outputId": "fcc514f5-8f18-4d79-bcc4-5fc34aa8dd4b",
        "colab": {
          "base_uri": "https://localhost:8080/"
        }
      },
      "source": [
        "#Set Symmetric Difference with multiple sets\n",
        "a = {1, 2, 3, 4, 5}\n",
        "b = {10, 2, 3, 4, 50}\n",
        "c = {1, 50, 100}\n",
        "#with the operator\n",
        "print(a ^ b ^ c)\n",
        "#with the method\n",
        "# a.symmetric_difference(b, c)\n"
      ],
      "execution_count": 33,
      "outputs": [
        {
          "output_type": "stream",
          "name": "stdout",
          "text": [
            "{10, 100, 5}\n"
          ]
        }
      ]
    },
    {
      "cell_type": "markdown",
      "metadata": {
        "id": "ijD8L8EyTfnR"
      },
      "source": [
        "the method does not work for multiple set symmetric difference"
      ]
    },
    {
      "cell_type": "code",
      "metadata": {
        "id": "sMfiwTwTTrOs",
        "outputId": "7750e1c1-ab20-4a68-8a3a-e25c24d1ac21",
        "colab": {
          "base_uri": "https://localhost:8080/"
        }
      },
      "source": [
        "# disjoint\n",
        "x1 = {'foo', 'bar', 'baz'}\n",
        "x2 = {'baz', 'qux', 'quux'}\n",
        "# returns True if x1 and x2 have no elements in common\n",
        "print(x1.isdisjoint(x2))\n",
        "print(x1.isdisjoint(x2 - {'baz'}))\n"
      ],
      "execution_count": 36,
      "outputs": [
        {
          "output_type": "stream",
          "name": "stdout",
          "text": [
            "False\n",
            "True\n"
          ]
        }
      ]
    },
    {
      "cell_type": "code",
      "metadata": {
        "id": "m1-eSf-AayUX",
        "outputId": "762221d4-c86d-4e92-a7d9-2dab74710749",
        "colab": {
          "base_uri": "https://localhost:8080/"
        }
      },
      "source": [
        "# return True if x1 is a subset of x2 and false if x1 is not a subset of x2\n",
        "x1 = {'foo', 'bar', 'baz'}\n",
        "print(x1.issubset({'foo', 'bar', 'baz', 'qux', 'quux'}))\n",
        "x2 = {'baz', 'qux', 'quux'}\n",
        "print(x1 <= x2)"
      ],
      "execution_count": 39,
      "outputs": [
        {
          "output_type": "stream",
          "name": "stdout",
          "text": [
            "True\n",
            "False\n"
          ]
        }
      ]
    },
    {
      "cell_type": "code",
      "metadata": {
        "id": "_NyaapAqcGmx",
        "outputId": "cc2bdf13-a81d-4342-a226-0ba390a6cc8b",
        "colab": {
          "base_uri": "https://localhost:8080/"
        }
      },
      "source": [
        "#A set is considered to be a subset of itself\n",
        "x = {1, 2, 3, 4, 5}\n",
        "print(x.issubset(x))\n",
        "\n",
        "print(x <= x)\n",
        "# < operator is used to test if a set is a proper subset of it self\n",
        "print( x < x)\n",
        "\n",
        "\n"
      ],
      "execution_count": 43,
      "outputs": [
        {
          "output_type": "stream",
          "name": "stdout",
          "text": [
            "True\n",
            "True\n",
            "False\n"
          ]
        }
      ]
    },
    {
      "cell_type": "code",
      "metadata": {
        "id": "M_pIL2FufwGW",
        "outputId": "37df2583-ba7a-41e4-fdb8-7a331cc3c899",
        "colab": {
          "base_uri": "https://localhost:8080/"
        }
      },
      "source": [
        "#returns True if x1 is a proper superset of x2 and false if otherwise \n",
        "x1 = {'foo', 'bar', 'baz'}\n",
        "x2 = {'foo', 'bar'}\n",
        "print(x1 > x2)\n",
        "print((x1-{'baz'})>x2)"
      ],
      "execution_count": 47,
      "outputs": [
        {
          "output_type": "stream",
          "name": "stdout",
          "text": [
            "True\n",
            "False\n"
          ]
        }
      ]
    },
    {
      "cell_type": "code",
      "metadata": {
        "id": "4iju5CiajiLR",
        "outputId": "704b16e5-854f-4792-d59d-4159cd4cfe3c",
        "colab": {
          "base_uri": "https://localhost:8080/"
        }
      },
      "source": [
        "#Modify a set by union\n",
        "x1 = {'foo', 'bar', 'baz'}\n",
        "x2 = {'foo', 'baz', 'qux'}\n",
        "\n",
        "x1 |= x2\n",
        "print(x1)\n",
        "\n",
        "\n",
        "x1.update(['corge', 'garply'])\n",
        "print(x1)"
      ],
      "execution_count": 49,
      "outputs": [
        {
          "output_type": "stream",
          "name": "stdout",
          "text": [
            "{'foo', 'qux', 'baz', 'bar'}\n",
            "{'foo', 'qux', 'baz', 'corge', 'bar', 'garply'}\n"
          ]
        }
      ]
    },
    {
      "cell_type": "code",
      "metadata": {
        "id": "8jKfan1-kFvk",
        "outputId": "7a646dae-2016-4162-b248-53dc1523c3d1",
        "colab": {
          "base_uri": "https://localhost:8080/"
        }
      },
      "source": [
        "#Modify a set by symmetric difference\n",
        "x1 = {'foo', 'bar', 'baz'}\n",
        "x2 = {'foo', 'baz', 'qux'}\n",
        "\n",
        "x1 ^= x2\n",
        "print(x1)\n",
        "\n",
        "x1.symmetric_difference_update(['qux', 'corge'])\n",
        "print(x1)"
      ],
      "execution_count": 51,
      "outputs": [
        {
          "output_type": "stream",
          "name": "stdout",
          "text": [
            "{'bar', 'qux'}\n",
            "{'bar', 'corge'}\n"
          ]
        }
      ]
    },
    {
      "cell_type": "code",
      "metadata": {
        "id": "WrEWt5x8kuRa",
        "outputId": "84b72cef-d4c7-4c18-a882-114e06c471ec",
        "colab": {
          "base_uri": "https://localhost:8080/"
        }
      },
      "source": [
        "# adding an element to a set\n",
        "x = {'foo', 'bar', 'baz'}\n",
        "\n",
        "x.add('qux')\n",
        "print(x)"
      ],
      "execution_count": 53,
      "outputs": [
        {
          "output_type": "stream",
          "name": "stdout",
          "text": [
            "{'bar', 'foo', 'qux', 'baz'}\n"
          ]
        }
      ]
    },
    {
      "cell_type": "code",
      "metadata": {
        "id": "DxJaEs_NlTRT",
        "outputId": "835130e6-012f-4092-d1f2-64a4ae9e9ad7",
        "colab": {
          "base_uri": "https://localhost:8080/"
        }
      },
      "source": [
        "# removing an element from a set and if the element is not in the set python raises an exception\n",
        "x = {'foo', 'bar', 'baz'}\n",
        "\n",
        "x.remove('baz')\n",
        "print(x)"
      ],
      "execution_count": 55,
      "outputs": [
        {
          "output_type": "stream",
          "name": "stdout",
          "text": [
            "{'bar', 'foo'}\n"
          ]
        }
      ]
    },
    {
      "cell_type": "code",
      "metadata": {
        "id": "J_Z1Fs72mOZd",
        "outputId": "37376b67-502c-4fe6-d857-65eb8af93e6f",
        "colab": {
          "base_uri": "https://localhost:8080/"
        }
      },
      "source": [
        "# discard is uded to remove an element from a set  \n",
        "x = {'foo', 'bar', 'baz'}\n",
        "\n",
        "x.discard('baz')\n",
        "print(x)\n",
        "\n",
        "#if the element is not in the set python does nothing\n",
        "x.discard('qux')\n",
        "print(x)"
      ],
      "execution_count": 58,
      "outputs": [
        {
          "output_type": "stream",
          "name": "stdout",
          "text": [
            "{'bar', 'foo'}\n",
            "{'bar', 'foo'}\n"
          ]
        }
      ]
    },
    {
      "cell_type": "code",
      "metadata": {
        "id": "4EWCXM8EnMEk",
        "outputId": "04db560a-fca6-41ca-b99d-bb0987e2f44d",
        "colab": {
          "base_uri": "https://localhost:8080/"
        }
      },
      "source": [
        "#pops removes a random element from a set\n",
        "x = {'foo', 'bar', 'baz'}\n",
        "\n",
        "print(x.pop())\n",
        "print(x)"
      ],
      "execution_count": 62,
      "outputs": [
        {
          "output_type": "stream",
          "name": "stdout",
          "text": [
            "bar\n",
            "{'foo', 'baz'}\n"
          ]
        }
      ]
    },
    {
      "cell_type": "code",
      "metadata": {
        "id": "G5gtuuD1omJS",
        "outputId": "c32151ea-7458-4fb5-b043-88cc6db14bdf",
        "colab": {
          "base_uri": "https://localhost:8080/"
        }
      },
      "source": [
        "#clear removes all the element from a set\n",
        "x = {'foo', 'bar', 'baz'}\n",
        "x.clear()\n",
        "print(x)"
      ],
      "execution_count": 65,
      "outputs": [
        {
          "output_type": "stream",
          "name": "stdout",
          "text": [
            "set()\n"
          ]
        }
      ]
    }
  ]
}