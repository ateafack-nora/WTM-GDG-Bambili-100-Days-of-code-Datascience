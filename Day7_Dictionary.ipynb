{
  "nbformat": 4,
  "nbformat_minor": 0,
  "metadata": {
    "colab": {
      "name": "Day7-Dictionary.ipynb",
      "provenance": [],
      "authorship_tag": "ABX9TyMKygMw30llyhu3TekUojEV",
      "include_colab_link": true
    },
    "kernelspec": {
      "name": "python3",
      "display_name": "Python 3"
    },
    "language_info": {
      "name": "python"
    }
  },
  "cells": [
    {
      "cell_type": "markdown",
      "metadata": {
        "id": "view-in-github",
        "colab_type": "text"
      },
      "source": [
        "<a href=\"https://colab.research.google.com/github/ateafack-nora/WTM-GDG-Bambili-100-Days-of-code-Datascience/blob/main/Day7_Dictionary.ipynb\" target=\"_parent\"><img src=\"https://colab.research.google.com/assets/colab-badge.svg\" alt=\"Open In Colab\"/></a>"
      ]
    },
    {
      "cell_type": "code",
      "metadata": {
        "colab": {
          "base_uri": "https://localhost:8080/"
        },
        "id": "w7rLnvwWW3YN",
        "outputId": "b8cd3ed7-f2b7-4868-b7fe-50d2bbbcdcdc"
      },
      "source": [
        "  team = dict(\n",
        "     Colorado='Rockies',\n",
        "     Boston='Red Sox',\n",
        "     Minnesota='Twins',\n",
        "     Milwaukee='Brewers',\n",
        "     Seattle='Mariners'\n",
        " )\n",
        "  print(type(team))\n",
        "  print(team)\n"
      ],
      "execution_count": 3,
      "outputs": [
        {
          "output_type": "stream",
          "name": "stdout",
          "text": [
            "<class 'dict'>\n",
            "{'Colorado': 'Rockies', 'Boston': 'Red Sox', 'Minnesota': 'Twins', 'Milwaukee': 'Brewers', 'Seattle': 'Mariners'}\n"
          ]
        }
      ]
    },
    {
      "cell_type": "code",
      "metadata": {
        "colab": {
          "base_uri": "https://localhost:8080/",
          "height": 35
        },
        "id": "HkGqzyfxZUOU",
        "outputId": "5961a725-e5ce-47a0-bc4b-9e9945a84583"
      },
      "source": [
        "#team[1] elements in a dictionary can not be accessed by an index\n",
        "# accesing elements in the dictionary with the corresponding key\n",
        "team['Colorado']"
      ],
      "execution_count": 7,
      "outputs": [
        {
          "output_type": "execute_result",
          "data": {
            "application/vnd.google.colaboratory.intrinsic+json": {
              "type": "string"
            },
            "text/plain": [
              "'Rockies'"
            ]
          },
          "metadata": {},
          "execution_count": 7
        }
      ]
    },
    {
      "cell_type": "code",
      "metadata": {
        "id": "1eEQ2Ju2aXnD"
      },
      "source": [
        "#python raises an exception when the key is not in the dictionary\n",
        "#team['Toronto']"
      ],
      "execution_count": 10,
      "outputs": []
    },
    {
      "cell_type": "code",
      "metadata": {
        "colab": {
          "base_uri": "https://localhost:8080/"
        },
        "id": "RTnfCye6e8d1",
        "outputId": "b93ce99f-1ba7-450b-f34f-4052d9c36734"
      },
      "source": [
        "#adding an entry to an existing dictionary\n",
        "team['Kansas City'] = 'Royals'\n",
        "print(team)"
      ],
      "execution_count": 12,
      "outputs": [
        {
          "output_type": "stream",
          "name": "stdout",
          "text": [
            "{'Colorado': 'Rockies', 'Boston': 'Red Sox', 'Minnesota': 'Twins', 'Milwaukee': 'Brewers', 'Seattle': 'Mariners', 'Kansas City': 'Royals'}\n"
          ]
        }
      ]
    },
    {
      "cell_type": "code",
      "metadata": {
        "colab": {
          "base_uri": "https://localhost:8080/"
        },
        "id": "_D3FfT7zf2rZ",
        "outputId": "b22c732b-bd7c-4a0b-9492-ad4f91f5f45f"
      },
      "source": [
        "#updating an entry in the dictionary\n",
        "team['Seattle'] = 'Seahawks'\n",
        "print(team)"
      ],
      "execution_count": 14,
      "outputs": [
        {
          "output_type": "stream",
          "name": "stdout",
          "text": [
            "{'Colorado': 'Rockies', 'Boston': 'Red Sox', 'Minnesota': 'Twins', 'Milwaukee': 'Brewers', 'Seattle': 'Seahawks', 'Kansas City': 'Royals'}\n"
          ]
        }
      ]
    },
    {
      "cell_type": "code",
      "metadata": {
        "colab": {
          "base_uri": "https://localhost:8080/"
        },
        "id": "INLO9DuQgVlB",
        "outputId": "28a11658-d116-4356-de02-58689d5c9b4b"
      },
      "source": [
        "#deleting an entry using del statement\n",
        "team = dict(\n",
        "     Colorado='Rockies',\n",
        "     Boston='Red Sox',\n",
        "     Minnesota='Twins',\n",
        "     Milwaukee='Brewers',\n",
        "     Seattle='Mariners'\n",
        " )\n",
        "del team['Colorado']\n",
        "print(team)"
      ],
      "execution_count": 8,
      "outputs": [
        {
          "output_type": "stream",
          "name": "stdout",
          "text": [
            "{'Boston': 'Red Sox', 'Minnesota': 'Twins', 'Milwaukee': 'Brewers', 'Seattle': 'Mariners'}\n"
          ]
        }
      ]
    },
    {
      "cell_type": "code",
      "metadata": {
        "colab": {
          "base_uri": "https://localhost:8080/"
        },
        "id": "Cr-VloseuyHH",
        "outputId": "e0f23c3e-6a51-4d2d-c8a5-d9f08388f7e0"
      },
      "source": [
        "d = {0: 'a', 1: 'b', 2: 'c', 3: 'd'}\n",
        "print(d) \n",
        "\n",
        "\n",
        "print(d[0])\n",
        "\n",
        "print(d[2])"
      ],
      "execution_count": 9,
      "outputs": [
        {
          "output_type": "stream",
          "name": "stdout",
          "text": [
            "{0: 'a', 1: 'b', 2: 'c', 3: 'd'}\n",
            "a\n",
            "c\n"
          ]
        }
      ]
    },
    {
      "cell_type": "markdown",
      "metadata": {
        "id": "e_RhHH7MvQ62"
      },
      "source": [
        "[0], [2] are the dictionary keys and not indeces"
      ]
    },
    {
      "cell_type": "code",
      "metadata": {
        "colab": {
          "base_uri": "https://localhost:8080/"
        },
        "id": "cg_boSb9vhWK",
        "outputId": "771ae04a-fb25-4ebd-ad06-7cbd8b09e4ba"
      },
      "source": [
        "#building a dictionary incrimentally with {} braces\n",
        "person = {}\n",
        "print(type(person))\n",
        "\n",
        "person['fname'] = 'Joe'\n",
        "person['lname'] = 'Fonebone'\n",
        "person['age'] = 55\n",
        "person['spouse'] = 'Edna'\n",
        "person['children'] = ['Ralph', 'Betty', 'Joey']\n",
        "person['pets'] = {'dog': 'Fido', 'cat': 'Sox'}\n",
        "# accessing the values in the dictionary\n",
        "print(person)\n",
        "print(person['fname'])\n",
        "\n",
        "print(person['age'])\n",
        "print(person['pets'])"
      ],
      "execution_count": 15,
      "outputs": [
        {
          "output_type": "stream",
          "name": "stdout",
          "text": [
            "<class 'dict'>\n",
            "{'fname': 'Joe', 'lname': 'Fonebone', 'age': 55, 'spouse': 'Edna', 'children': ['Ralph', 'Betty', 'Joey'], 'pets': {'dog': 'Fido', 'cat': 'Sox'}}\n",
            "Joe\n",
            "55\n",
            "{'dog': 'Fido', 'cat': 'Sox'}\n"
          ]
        }
      ]
    },
    {
      "cell_type": "code",
      "metadata": {
        "colab": {
          "base_uri": "https://localhost:8080/"
        },
        "id": "uyZtGexg0V5E",
        "outputId": "26e4a99a-5629-44c7-d859-07d8e2b2cc73"
      },
      "source": [
        "# the keys of a dictionary must not be of the same type\n",
        "foo = {42: 'aaa', 2.78: 'bbb', True: 'ccc'}\n",
        "print(foo)\n",
        "\n",
        "print(foo[42])\n",
        "\n",
        "print(foo[2.78])"
      ],
      "execution_count": 17,
      "outputs": [
        {
          "output_type": "stream",
          "name": "stdout",
          "text": [
            "{42: 'aaa', 2.78: 'bbb', True: 'ccc'}\n",
            "aaa\n",
            "bbb\n"
          ]
        }
      ]
    },
    {
      "cell_type": "code",
      "metadata": {
        "colab": {
          "base_uri": "https://localhost:8080/"
        },
        "id": "PJnHH3AY1Ngu",
        "outputId": "1276f009-8d8e-4faf-e0b1-a3e04317c61e"
      },
      "source": [
        "#using built-in objects as keys\n",
        "d = {int: 1, float: 2, bool: 3}\n",
        "print(d)\n",
        "#acccessint the key float\n",
        "print(d[float])"
      ],
      "execution_count": 20,
      "outputs": [
        {
          "output_type": "stream",
          "name": "stdout",
          "text": [
            "{<class 'int'>: 1, <class 'float'>: 2, <class 'bool'>: 3}\n",
            "2\n"
          ]
        }
      ]
    },
    {
      "cell_type": "code",
      "metadata": {
        "id": "DQP5fvtF1p9J"
      },
      "source": [
        "# a key can appear only once in a dictionary and when a second value is assign to a key it overrides the first one instead of appearing again"
      ],
      "execution_count": 1,
      "outputs": []
    },
    {
      "cell_type": "code",
      "metadata": {
        "colab": {
          "base_uri": "https://localhost:8080/"
        },
        "id": "O7yTw6Lb7Kkw",
        "outputId": "cfa04552-bb79-4d20-9fe6-c3c394a29c35"
      },
      "source": [
        "#tupples asdictionary\n",
        "d = {(1, 1): 'a', (1, 2): 'b', (2, 1): 'c', (2, 2): 'd'}\n",
        "print(d[(1,1)])\n"
      ],
      "execution_count": 3,
      "outputs": [
        {
          "output_type": "stream",
          "name": "stdout",
          "text": [
            "a\n"
          ]
        }
      ]
    },
    {
      "cell_type": "code",
      "metadata": {
        "colab": {
          "base_uri": "https://localhost:8080/"
        },
        "id": "R4dX4GPq_9ei",
        "outputId": "91f1c319-7c8a-4488-fb65-84fbc5bbb44d"
      },
      "source": [
        "#values can appear multiple times in a dictionary\n",
        "d = {0: 'a', 1: 'a', 2: 'a', 3: 'a'}\n",
        "print(d)\n",
        "\n",
        "print(d[0] == d[1] == d[2])"
      ],
      "execution_count": 5,
      "outputs": [
        {
          "output_type": "stream",
          "name": "stdout",
          "text": [
            "{0: 'a', 1: 'a', 2: 'a', 3: 'a'}\n",
            "True\n"
          ]
        }
      ]
    },
    {
      "cell_type": "code",
      "metadata": {
        "colab": {
          "base_uri": "https://localhost:8080/"
        },
        "id": "FPKcFTA8CUcd",
        "outputId": "16ea17f6-7d03-429e-d123-32cc0f20445f"
      },
      "source": [
        "#operators and built-in functions\n",
        "team = {\n",
        "    'Colorado' : 'Rockies',\n",
        "    'Boston'   : 'Red Sox',\n",
        "    'Minnesota': 'Twins',\n",
        "    'Milwaukee': 'Brewers',\n",
        "    'Seattle'  : 'Mariners'\n",
        " }\n",
        "print('Milwaukee' in team)\n",
        "\n",
        "print('Toronto' in team)\n",
        "\n",
        "print('Toronto' not in team)"
      ],
      "execution_count": 10,
      "outputs": [
        {
          "output_type": "stream",
          "name": "stdout",
          "text": [
            "True\n",
            "False\n",
            "True\n"
          ]
        }
      ]
    },
    {
      "cell_type": "code",
      "metadata": {
        "colab": {
          "base_uri": "https://localhost:8080/"
        },
        "id": "SvX1Fzv1FSn9",
        "outputId": "d5f1556f-a5b5-40a9-a232-130d593a1fd7"
      },
      "source": [
        "#usint in operator with short circuit evaluation to avoid raising an error when accessint a key that is not in the dictionary\n",
        "print( 'Toronto' in team and team['Toronto']) "
      ],
      "execution_count": 13,
      "outputs": [
        {
          "output_type": "stream",
          "name": "stdout",
          "text": [
            "False\n"
          ]
        }
      ]
    },
    {
      "cell_type": "code",
      "metadata": {
        "colab": {
          "base_uri": "https://localhost:8080/"
        },
        "id": "v1Aa7ElbF0Ek",
        "outputId": "6a01bee7-1fc6-4660-f61f-dfa567121864"
      },
      "source": [
        "# len() function\n",
        "print(len(team))"
      ],
      "execution_count": 15,
      "outputs": [
        {
          "output_type": "stream",
          "name": "stdout",
          "text": [
            "5\n"
          ]
        }
      ]
    },
    {
      "cell_type": "code",
      "metadata": {
        "colab": {
          "base_uri": "https://localhost:8080/"
        },
        "id": "pDM3MYPEGd5m",
        "outputId": "21ba7848-142a-490c-f182-b3ee9a11b099"
      },
      "source": [
        "#built-in Dictionary Methods\n",
        "#d.clear() function deletes everything in the dict \n",
        "d = {'a': 10, 'b': 20, 'c': 30}\n",
        "d.clear()\n",
        "print(d)\n",
        "#d.get\n",
        "d = {'a': 10, 'b': 20, 'c': 30}\n",
        "print(d.get('b'))\n",
        "print(d.get('z'))\n",
        "print(d.get('z', -1))\n",
        "#d.items()\n",
        "d = {'a': 10, 'b': 20, 'c': 30}\n",
        "print(d)\n",
        "print(list(d.items()))\n",
        "\n",
        "print(list(d.items())[1][0])\n",
        "print(list(d.items())[1][1])"
      ],
      "execution_count": 23,
      "outputs": [
        {
          "output_type": "stream",
          "name": "stdout",
          "text": [
            "{}\n",
            "20\n",
            "None\n",
            "-1\n",
            "{'a': 10, 'b': 20, 'c': 30}\n",
            "[('a', 10), ('b', 20), ('c', 30)]\n",
            "b\n",
            "20\n"
          ]
        }
      ]
    },
    {
      "cell_type": "code",
      "metadata": {
        "colab": {
          "base_uri": "https://localhost:8080/"
        },
        "id": "3rRpFZz4KkXH",
        "outputId": "8ee6e9ea-6217-4330-f08d-6bd05744c6dd"
      },
      "source": [
        "#d.keys()\n",
        "print(list(d.keys()))\n"
      ],
      "execution_count": 25,
      "outputs": [
        {
          "output_type": "stream",
          "name": "stdout",
          "text": [
            "['a', 'b', 'c']\n"
          ]
        }
      ]
    },
    {
      "cell_type": "code",
      "metadata": {
        "colab": {
          "base_uri": "https://localhost:8080/"
        },
        "id": "W8c-vwcvKyoH",
        "outputId": "63073f13-14f0-4ef7-b4f6-8564e5f93bef"
      },
      "source": [
        "#d.values()\n",
        "print(list(d.values()))\n",
        "# dupplicate values will occur\n",
        "d = {'a': 10, 'b': 10, 'c': 10}\n",
        "print(list(d.values()))"
      ],
      "execution_count": 28,
      "outputs": [
        {
          "output_type": "stream",
          "name": "stdout",
          "text": [
            "[10, 10, 10]\n",
            "[10, 10, 10]\n"
          ]
        }
      ]
    },
    {
      "cell_type": "code",
      "metadata": {
        "colab": {
          "base_uri": "https://localhost:8080/"
        },
        "id": "4UKC3qNzMBmt",
        "outputId": "6ad11461-e203-4865-f51d-b2ce1e391b44"
      },
      "source": [
        "#d.pop\n",
        "d = {'a': 10, 'b': 20, 'c': 30}\n",
        "print(d.pop('b'))\n",
        "print(d)"
      ],
      "execution_count": 31,
      "outputs": [
        {
          "output_type": "stream",
          "name": "stdout",
          "text": [
            "20\n",
            "{'a': 10, 'c': 30}\n"
          ]
        }
      ]
    },
    {
      "cell_type": "code",
      "metadata": {
        "colab": {
          "base_uri": "https://localhost:8080/"
        },
        "id": "DviGWJC-Mqvi",
        "outputId": "52588f4d-25ec-47ee-97f1-3a9560a1cb36"
      },
      "source": [
        "#d.popitem()\n",
        "d = {'a': 10, 'b': 20, 'c': 30}\n",
        "print(d.popitem())\n",
        "print(d)\n",
        "print(d.popitem())\n",
        "print(d)"
      ],
      "execution_count": 32,
      "outputs": [
        {
          "output_type": "stream",
          "name": "stdout",
          "text": [
            "('c', 30)\n",
            "{'a': 10, 'b': 20}\n",
            "('b', 20)\n",
            "{'a': 10}\n"
          ]
        }
      ]
    },
    {
      "cell_type": "markdown",
      "metadata": {
        "id": "HOJiEpRfNLmv"
      },
      "source": [
        "d.popitem() raises an error when d is empty"
      ]
    },
    {
      "cell_type": "code",
      "metadata": {
        "colab": {
          "base_uri": "https://localhost:8080/"
        },
        "id": "WH9zMGvnNTBE",
        "outputId": "84a61750-d46a-4c77-ded4-aea6eec494cb"
      },
      "source": [
        "#d.update\n",
        "d1 = {'a': 10, 'b': 20, 'c': 30}\n",
        "d2 = {'b': 200, 'd': 400}\n",
        "d1.update(d2)\n",
        "print(d1)\n",
        "\n",
        "\n"
      ],
      "execution_count": 34,
      "outputs": [
        {
          "output_type": "stream",
          "name": "stdout",
          "text": [
            "{'a': 10, 'b': 200, 'c': 30, 'd': 400}\n"
          ]
        }
      ]
    }
  ]
}