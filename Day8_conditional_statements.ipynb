{
  "nbformat": 4,
  "nbformat_minor": 0,
  "metadata": {
    "colab": {
      "name": "Day8-conditional-statements.ipynb",
      "provenance": [],
      "authorship_tag": "ABX9TyM24sQvcTpSF7QLVPZZUNd/",
      "include_colab_link": true
    },
    "kernelspec": {
      "name": "python3",
      "display_name": "Python 3"
    },
    "language_info": {
      "name": "python"
    }
  },
  "cells": [
    {
      "cell_type": "markdown",
      "metadata": {
        "id": "view-in-github",
        "colab_type": "text"
      },
      "source": [
        "<a href=\"https://colab.research.google.com/github/ateafack-nora/WTM-GDG-Bambili-100-Days-of-code-Datascience/blob/main/Day8_conditional_statements.ipynb\" target=\"_parent\"><img src=\"https://colab.research.google.com/assets/colab-badge.svg\" alt=\"Open In Colab\"/></a>"
      ]
    },
    {
      "cell_type": "code",
      "metadata": {
        "colab": {
          "base_uri": "https://localhost:8080/"
        },
        "id": "bN0fnuH43jVS",
        "outputId": "6f46fff2-60b2-4268-cdfe-e90a2f335c0f"
      },
      "source": [
        "# the if statement\n",
        "x = 0\n",
        "y = 5\n",
        "if x < y:\n",
        "  print('yes')\n",
        "if y or x:                            \n",
        "     print('yes')"
      ],
      "execution_count": 2,
      "outputs": [
        {
          "output_type": "stream",
          "name": "stdout",
          "text": [
            "yes\n",
            "yes\n"
          ]
        }
      ]
    },
    {
      "cell_type": "code",
      "metadata": {
        "colab": {
          "base_uri": "https://localhost:8080/"
        },
        "id": "dBIvq7fksT3C",
        "outputId": "3f4dfd65-25bf-4b40-8f51-71ccc9822278"
      },
      "source": [
        "if 'aul' in 'grault':                \n",
        "     print('yes')\n",
        "if 'quux' in ['foo', 'bar', 'baz']:  \n",
        "     print('yes')\n"
      ],
      "execution_count": 1,
      "outputs": [
        {
          "output_type": "stream",
          "name": "stdout",
          "text": [
            "yes\n"
          ]
        }
      ]
    },
    {
      "cell_type": "code",
      "metadata": {
        "colab": {
          "base_uri": "https://localhost:8080/"
        },
        "id": "03LZ70MaC1zj",
        "outputId": "191512ea-2b17-455b-a921-60a95c1cbb05"
      },
      "source": [
        "# example of how indentation works\n",
        "if 'foo' in ['bar', 'baz', 'qux']:\n",
        "    print('Expression was true')\n",
        "    print('Executing statement in suite')\n",
        "    print('...')\n",
        "    print('Done.')\n",
        "print('After conditional')"
      ],
      "execution_count": 3,
      "outputs": [
        {
          "output_type": "stream",
          "name": "stdout",
          "text": [
            "After conditional\n"
          ]
        }
      ]
    },
    {
      "cell_type": "code",
      "metadata": {
        "colab": {
          "base_uri": "https://localhost:8080/"
        },
        "id": "7IOFvYJNDtnP",
        "outputId": "07d50e7f-560f-4029-bf1c-b1cbae4482a6"
      },
      "source": [
        "if 'foo' in ['foo', 'bar', 'baz']:       \n",
        "    print('Outer condition is true')      \n",
        "\n",
        "    if 10 > 20:                          \n",
        "        print('Inner condition 1')              \n",
        "\n",
        "    print('Between inner conditions')     \n",
        "\n",
        "    if 10 < 20:                           \n",
        "        print('Inner condition 2')        \n",
        "\n",
        "    print('End of outer condition')       \n",
        "print('After outer condition')  "
      ],
      "execution_count": 5,
      "outputs": [
        {
          "output_type": "stream",
          "name": "stdout",
          "text": [
            "Outer condition is true\n",
            "Between inner conditions\n",
            "Inner condition 2\n",
            "End of outer condition\n",
            "After outer condition\n"
          ]
        }
      ]
    },
    {
      "cell_type": "code",
      "metadata": {
        "id": "4ikkVSVXG8tF",
        "outputId": "5ba11cca-8789-4b9a-f45c-46935ad865f5",
        "colab": {
          "base_uri": "https://localhost:8080/"
        }
      },
      "source": [
        "# else clause\n",
        "x = 20\n",
        "\n",
        "if x < 50:\n",
        "     print('(first suite)')\n",
        "     print('x is small')\n",
        "else:\n",
        "     print('(second suite)')\n",
        "     print('x is large')"
      ],
      "execution_count": 9,
      "outputs": [
        {
          "output_type": "stream",
          "name": "stdout",
          "text": [
            "(first suite)\n",
            "x is small\n"
          ]
        }
      ]
    },
    {
      "cell_type": "code",
      "metadata": {
        "id": "Uh-sOrkHHqmO",
        "outputId": "147cff14-cc8f-4cd0-86b6-b0332da86b6b",
        "colab": {
          "base_uri": "https://localhost:8080/"
        }
      },
      "source": [
        "x = 20\n",
        "\n",
        "if x < 50:\n",
        "     print('(first suite)')\n",
        "     print('x is small')\n",
        "else:\n",
        "     print('(second suite)')\n",
        "     print('x is large')"
      ],
      "execution_count": 11,
      "outputs": [
        {
          "output_type": "stream",
          "name": "stdout",
          "text": [
            "(first suite)\n",
            "x is small\n"
          ]
        }
      ]
    },
    {
      "cell_type": "code",
      "metadata": {
        "id": "p3A-KRhIIJ-F",
        "outputId": "ccd0253d-5204-40af-c67a-183a42956378",
        "colab": {
          "base_uri": "https://localhost:8080/"
        }
      },
      "source": [
        "#else if clause(elif)\n",
        "name = 'Joe'\n",
        "if name == 'Fred':\n",
        "     print('Hello Fred')\n",
        "elif name == 'Xander':\n",
        "     print('Hello Xander')\n",
        "elif name == 'Joe':\n",
        "     print('Hello Joe')\n",
        "elif name == 'Arnold':\n",
        "     print('Hello Arnold')\n",
        "else:\n",
        "     print(\"I don't know who you are!\")"
      ],
      "execution_count": 13,
      "outputs": [
        {
          "output_type": "stream",
          "name": "stdout",
          "text": [
            "Hello Joe\n"
          ]
        }
      ]
    },
    {
      "cell_type": "code",
      "metadata": {
        "id": "jRmp3S5UJSB-",
        "outputId": "78c0d078-b948-4ff3-a141-2b2f6d02ba05",
        "colab": {
          "base_uri": "https://localhost:8080/"
        }
      },
      "source": [
        "names = {\n",
        "     'Fred': 'Hello Fred',\n",
        "     'Xander': 'Hello Xander',\n",
        "     'Joe': 'Hello Joe',\n",
        "     'Arnold': 'Hello Arnold'\n",
        " }\n",
        "\n",
        "print(names.get('Joe', \"I don't know who you are!\"))\n",
        "print(names.get('Rick', \"I don't know who you are!\"))"
      ],
      "execution_count": 1,
      "outputs": [
        {
          "output_type": "stream",
          "name": "stdout",
          "text": [
            "Hello Joe\n",
            "I don't know who you are!\n"
          ]
        }
      ]
    },
    {
      "cell_type": "code",
      "metadata": {
        "id": "88longW05vQ6",
        "outputId": "38802b78-398d-4f63-afdc-f2c502edd4ce",
        "colab": {
          "base_uri": "https://localhost:8080/"
        }
      },
      "source": [
        "# using the if and elif and if the first condition is true the other conditions are neglated\n",
        "if 'a' in 'bar':\n",
        "     print('foo')\n",
        "elif 1/0:\n",
        "     print(\"This won't happen\")\n",
        "elif var:\n",
        "     print(\"This won't either\")"
      ],
      "execution_count": 3,
      "outputs": [
        {
          "output_type": "stream",
          "name": "stdout",
          "text": [
            "foo\n"
          ]
        }
      ]
    },
    {
      "cell_type": "code",
      "metadata": {
        "id": "dqO7qZlb9hi8",
        "outputId": "eb8f5acf-0d0a-425a-865b-dd0b9385bea4",
        "colab": {
          "base_uri": "https://localhost:8080/"
        }
      },
      "source": [
        "#one line if statement\n",
        "if 'f' in 'foo': print('1'); print('2'); print('3')\n",
        "if 'z' in 'foo': print('1'); print('2'); print('3')\n"
      ],
      "execution_count": 8,
      "outputs": [
        {
          "output_type": "stream",
          "name": "stdout",
          "text": [
            "1\n",
            "2\n",
            "3\n"
          ]
        }
      ]
    },
    {
      "cell_type": "code",
      "metadata": {
        "id": "78EB99ME-vuV",
        "outputId": "e8c5bde3-b637-4c8d-8402-6e79a8a4d2d2",
        "colab": {
          "base_uri": "https://localhost:8080/"
        }
      },
      "source": [
        "#Multiple statements may be specified on the same line as an elif or else clause as well:\n",
        "x = 2\n",
        "if x == 1: print('foo'); print('bar'); print('baz')\n",
        "elif x == 2: print('qux'); print('quux')\n",
        "else: print('corge'); print('grault')\n",
        "\n",
        "x = 3\n",
        "if x == 1: print('foo'); print('bar'); print('baz')\n",
        "elif x == 2: print('qux'); print('quux')\n",
        "else: print('corge'); print('grault')\n",
        "\n",
        "\n",
        "\n"
      ],
      "execution_count": 12,
      "outputs": [
        {
          "output_type": "stream",
          "name": "stdout",
          "text": [
            "qux\n",
            "quux\n",
            "corge\n",
            "grault\n"
          ]
        }
      ]
    },
    {
      "cell_type": "markdown",
      "metadata": {
        "id": "-EL7BmmfBhzG"
      },
      "source": [
        "conditional expressions"
      ]
    },
    {
      "cell_type": "code",
      "metadata": {
        "id": "cu6Q9mO-_erg",
        "outputId": "1126dd0d-0ee4-43ce-9b46-9a5b50434c0a",
        "colab": {
          "base_uri": "https://localhost:8080/"
        }
      },
      "source": [
        "#1\n",
        "raining = False\n",
        "print(\"Let's go to the\", 'beach' if not raining else 'library')\n"
      ],
      "execution_count": 13,
      "outputs": [
        {
          "output_type": "stream",
          "name": "stdout",
          "text": [
            "Let's go to the beach\n"
          ]
        }
      ]
    },
    {
      "cell_type": "code",
      "metadata": {
        "id": "gCBIKCf0B-CZ",
        "outputId": "fdc6b89a-b81a-417f-ecee-02b277e972cf",
        "colab": {
          "base_uri": "https://localhost:8080/"
        }
      },
      "source": [
        "#2\n",
        "raining = True\n",
        "print(\"Let's go to the\", 'beach' if not raining else 'library')"
      ],
      "execution_count": 15,
      "outputs": [
        {
          "output_type": "stream",
          "name": "stdout",
          "text": [
            "Let's go to the library\n"
          ]
        }
      ]
    },
    {
      "cell_type": "code",
      "metadata": {
        "id": "Pgik9JhhCLGS",
        "outputId": "f794c43b-d58c-425e-aab1-82f84d303f66",
        "colab": {
          "base_uri": "https://localhost:8080/"
        }
      },
      "source": [
        "#3\n",
        "age = 12\n",
        "s = 'minor' if age < 21 else 'adult'\n",
        "print(s)"
      ],
      "execution_count": 17,
      "outputs": [
        {
          "output_type": "stream",
          "name": "stdout",
          "text": [
            "minor\n"
          ]
        }
      ]
    },
    {
      "cell_type": "code",
      "metadata": {
        "id": "iyxQLRV0CfTq",
        "outputId": "43b21a16-55f2-4ac4-b9a6-99952c9399b8",
        "colab": {
          "base_uri": "https://localhost:8080/",
          "height": 35
        }
      },
      "source": [
        "#4\n",
        "'yes' if ('qux' in ['foo', 'bar', 'baz']) else 'no'"
      ],
      "execution_count": 19,
      "outputs": [
        {
          "output_type": "execute_result",
          "data": {
            "application/vnd.google.colaboratory.intrinsic+json": {
              "type": "string"
            },
            "text/plain": [
              "'no'"
            ]
          },
          "metadata": {},
          "execution_count": 19
        }
      ]
    },
    {
      "cell_type": "code",
      "metadata": {
        "id": "umAVCvukDutU",
        "outputId": "3e7fb215-ce59-4be9-a003-f408ae2f9471",
        "colab": {
          "base_uri": "https://localhost:8080/"
        }
      },
      "source": [
        "x = y = 40\n",
        "\n",
        "z = 1 + x if x > y else y + 2\n",
        "print(z)"
      ],
      "execution_count": 22,
      "outputs": [
        {
          "output_type": "stream",
          "name": "stdout",
          "text": [
            "42\n"
          ]
        }
      ]
    },
    {
      "cell_type": "code",
      "metadata": {
        "id": "w1j5VNINEg1D",
        "outputId": "f2aa8f85-a084-4d9d-c7ab-87f6bd883703",
        "colab": {
          "base_uri": "https://localhost:8080/",
          "height": 35
        }
      },
      "source": [
        "#Conditional expressions  use short-circuit evaluation. if the first condition is true then the second is not evaluated so no excepton is raised\n",
        "'foo' if True else 1/0"
      ],
      "execution_count": 24,
      "outputs": [
        {
          "output_type": "execute_result",
          "data": {
            "application/vnd.google.colaboratory.intrinsic+json": {
              "type": "string"
            },
            "text/plain": [
              "'foo'"
            ]
          },
          "metadata": {},
          "execution_count": 24
        }
      ]
    },
    {
      "cell_type": "code",
      "metadata": {
        "id": "2EK0CtnkFNdb",
        "outputId": "b9fbafa9-482b-49bb-c3a5-e89d89a3b781",
        "colab": {
          "base_uri": "https://localhost:8080/"
        }
      },
      "source": [
        "#chaining condional expressions together\n",
        "x=2\n",
        "s = ('foo' if (x == 1) else\n",
        "      'bar' if (x == 2) else\n",
        "      'baz' if (x == 3) else\n",
        "      'qux' if (x == 4) else\n",
        "      'quux'\n",
        " )\n",
        "print(s)"
      ],
      "execution_count": 28,
      "outputs": [
        {
          "output_type": "stream",
          "name": "stdout",
          "text": [
            "bar\n"
          ]
        }
      ]
    },
    {
      "cell_type": "code",
      "metadata": {
        "id": "wrSoEeJ9Gc-d",
        "outputId": "f38c7c3d-77f2-414b-a782-d3811a1324c4",
        "colab": {
          "base_uri": "https://localhost:8080/"
        }
      },
      "source": [
        "#pass statement\n",
        "if True:\n",
        "    pass\n",
        "\n",
        "print('foo')"
      ],
      "execution_count": 29,
      "outputs": [
        {
          "output_type": "stream",
          "name": "stdout",
          "text": [
            "foo\n"
          ]
        }
      ]
    }
  ]
}