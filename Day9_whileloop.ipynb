{
  "nbformat": 4,
  "nbformat_minor": 0,
  "metadata": {
    "colab": {
      "name": "Day9-whileloop.ipynb",
      "provenance": [],
      "authorship_tag": "ABX9TyPGLDgSiAcBsEMtkkXTxULl",
      "include_colab_link": true
    },
    "kernelspec": {
      "name": "python3",
      "display_name": "Python 3"
    },
    "language_info": {
      "name": "python"
    }
  },
  "cells": [
    {
      "cell_type": "markdown",
      "metadata": {
        "id": "view-in-github",
        "colab_type": "text"
      },
      "source": [
        "<a href=\"https://colab.research.google.com/github/ateafack-nora/WTM-GDG-Bambili-100-Days-of-code-Datascience/blob/main/Day9_whileloop.ipynb\" target=\"_parent\"><img src=\"https://colab.research.google.com/assets/colab-badge.svg\" alt=\"Open In Colab\"/></a>"
      ]
    },
    {
      "cell_type": "code",
      "metadata": {
        "colab": {
          "base_uri": "https://localhost:8080/"
        },
        "id": "2N8mfurMPo56",
        "outputId": "619a8033-0d71-4945-9c41-0949566d5d38"
      },
      "source": [
        "# while loop\n",
        "n = 5\n",
        "while n > 0:\n",
        "     n -= 1\n",
        "     print(n)"
      ],
      "execution_count": 6,
      "outputs": [
        {
          "output_type": "stream",
          "name": "stdout",
          "text": [
            "4\n",
            "3\n",
            "2\n",
            "1\n",
            "0\n"
          ]
        }
      ]
    },
    {
      "cell_type": "code",
      "metadata": {
        "colab": {
          "base_uri": "https://localhost:8080/"
        },
        "id": "D6KJ5rEoTFxo",
        "outputId": "11a43a5c-bdf2-4faa-b73d-0247e3ea21af"
      },
      "source": [
        "a = ['foo', 'bar', 'baz']\n",
        "while a:\n",
        "     print(a.pop(-1))\n"
      ],
      "execution_count": 8,
      "outputs": [
        {
          "output_type": "stream",
          "name": "stdout",
          "text": [
            "baz\n",
            "bar\n",
            "foo\n"
          ]
        }
      ]
    },
    {
      "cell_type": "code",
      "metadata": {
        "colab": {
          "base_uri": "https://localhost:8080/"
        },
        "id": "8XDz0XfUToh_",
        "outputId": "d16c8364-ee74-4d7e-90d7-a1d597ec40cf"
      },
      "source": [
        "# break and continue Statements\n",
        "#break\n",
        "n = 5\n",
        "while n > 0:\n",
        "    n -= 1\n",
        "    if n == 2:\n",
        "        break\n",
        "    print(n)\n",
        "print('Loop ended.')\n"
      ],
      "execution_count": 10,
      "outputs": [
        {
          "output_type": "stream",
          "name": "stdout",
          "text": [
            "4\n",
            "3\n",
            "Loop ended.\n"
          ]
        }
      ]
    },
    {
      "cell_type": "code",
      "metadata": {
        "colab": {
          "base_uri": "https://localhost:8080/"
        },
        "id": "WA_KL198UP8j",
        "outputId": "10774cde-1b74-40b0-cb8b-ac405069d8d6"
      },
      "source": [
        "#continue\n",
        "n = 5\n",
        "while n > 0:\n",
        "    n -= 1\n",
        "    if n == 2:\n",
        "        continue\n",
        "    print(n)\n",
        "print('Loop ended.')"
      ],
      "execution_count": 12,
      "outputs": [
        {
          "output_type": "stream",
          "name": "stdout",
          "text": [
            "4\n",
            "3\n",
            "1\n",
            "0\n",
            "Loop ended.\n"
          ]
        }
      ]
    },
    {
      "cell_type": "code",
      "metadata": {
        "colab": {
          "base_uri": "https://localhost:8080/"
        },
        "id": "SVqAYqQ-Uyjo",
        "outputId": "8bba9e7a-7611-4662-e241-121b9fc3f218"
      },
      "source": [
        "#else Clause\n",
        "n = 5\n",
        "while n > 0:\n",
        "     n -= 1\n",
        "     print(n)\n",
        "else:\n",
        "     print('Loop done.')"
      ],
      "execution_count": 14,
      "outputs": [
        {
          "output_type": "stream",
          "name": "stdout",
          "text": [
            "4\n",
            "3\n",
            "2\n",
            "1\n",
            "0\n",
            "Loop done.\n"
          ]
        }
      ]
    },
    {
      "cell_type": "code",
      "metadata": {
        "colab": {
          "base_uri": "https://localhost:8080/"
        },
        "id": "IkR4gIb_WsSD",
        "outputId": "53ccef30-e0fc-40c8-a293-8f904ee2c0e4"
      },
      "source": [
        " n = 5\n",
        " while n > 0:\n",
        "     n -= 1\n",
        "     print(n)\n",
        "     if n == 2:\n",
        "         break\n",
        " else:\n",
        "     print('Loop done.')\n",
        "# the else loop is not been exercuted because of the break\n",
        "\n"
      ],
      "execution_count": 1,
      "outputs": [
        {
          "output_type": "stream",
          "name": "stdout",
          "text": [
            "4\n",
            "3\n",
            "2\n"
          ]
        }
      ]
    },
    {
      "cell_type": "code",
      "metadata": {
        "colab": {
          "base_uri": "https://localhost:8080/"
        },
        "id": "g0J4HeLIRKfJ",
        "outputId": "3db9d427-4cc9-40d7-d726-c0daa5a0b9f7"
      },
      "source": [
        "#when the else clause is useful in the while loop\n",
        "a = ['foo', 'bar', 'baz', 'qux']\n",
        "s = 'corge'\n",
        "\n",
        "i = 0\n",
        "while i < len(a):\n",
        "     if a[i] == s:\n",
        "         # Processing for item found\n",
        "         break\n",
        "     i += 1\n",
        "else:\n",
        "     # Processing for item not found\n",
        "     print(s, 'not found in list.')"
      ],
      "execution_count": 4,
      "outputs": [
        {
          "output_type": "stream",
          "name": "stdout",
          "text": [
            "corge not found in list.\n"
          ]
        }
      ]
    },
    {
      "cell_type": "code",
      "metadata": {
        "colab": {
          "base_uri": "https://localhost:8080/"
        },
        "id": "noHYZp-GR1jv",
        "outputId": "ec40dcab-d6d8-4f3f-a06e-85a0c9249416"
      },
      "source": [
        "# built-in ways to search for an item s in a list\n",
        "if s in a:\n",
        "     print(s, 'found in list.')\n",
        "else:\n",
        "     print(s, 'not found in list.')"
      ],
      "execution_count": 6,
      "outputs": [
        {
          "output_type": "stream",
          "name": "stdout",
          "text": [
            "corge not found in list.\n"
          ]
        }
      ]
    },
    {
      "cell_type": "code",
      "metadata": {
        "colab": {
          "base_uri": "https://localhost:8080/"
        },
        "id": "SRpmB-HvSiU2",
        "outputId": "0138cb5d-4172-41fd-a1db-341704a943fd"
      },
      "source": [
        "#Infinite Loops\n",
        "a = ['foo', 'bar', 'baz']\n",
        "while True:\n",
        "     if not a:\n",
        "         break\n",
        "     print(a.pop(-1))"
      ],
      "execution_count": 7,
      "outputs": [
        {
          "output_type": "stream",
          "name": "stdout",
          "text": [
            "baz\n",
            "bar\n",
            "foo\n"
          ]
        }
      ]
    },
    {
      "cell_type": "markdown",
      "metadata": {
        "id": "smn2IPAPXd9X"
      },
      "source": [
        ".pop() use to remove items from a list untill the list becomes empty"
      ]
    },
    {
      "cell_type": "markdown",
      "metadata": {
        "id": "B3bEOWUvZA8r"
      },
      "source": [
        "multiple break statement can also be specify in a loop"
      ]
    },
    {
      "cell_type": "code",
      "metadata": {
        "colab": {
          "base_uri": "https://localhost:8080/"
        },
        "id": "UK1M_s2QXn7p",
        "outputId": "31559f5e-7858-4c20-a499-69503448b790"
      },
      "source": [
        "#Nested while Loops\n",
        "\n",
        "age =20\n",
        "gender = 'm'\n",
        "if age < 18:\n",
        "    if gender == 'M':\n",
        "        print('son')\n",
        "    else:\n",
        "        print('daughter')\n",
        "elif age >= 18 and age < 65:\n",
        "    if gender == 'M':\n",
        "        print('father')\n",
        "    else:\n",
        "        print('mother')\n",
        "else:\n",
        "    if gender == 'M':\n",
        "        print('grandfather')\n",
        "    else:\n",
        "        print('grandmother')"
      ],
      "execution_count": 11,
      "outputs": [
        {
          "output_type": "stream",
          "name": "stdout",
          "text": [
            "mother\n"
          ]
        }
      ]
    },
    {
      "cell_type": "code",
      "metadata": {
        "colab": {
          "base_uri": "https://localhost:8080/"
        },
        "id": "mL3awAn3aVx5",
        "outputId": "1b2881f1-551a-445e-a07c-4b91c0f76ad4"
      },
      "source": [
        "# while loop in another while loop\n",
        "a = ['foo', 'bar']\n",
        "while len(a):\n",
        "       print(a.pop(0))\n",
        "       b = ['baz', 'qux']\n",
        "       while len(b):\n",
        "         print('>', b.pop(0))"
      ],
      "execution_count": 17,
      "outputs": [
        {
          "output_type": "stream",
          "name": "stdout",
          "text": [
            "foo\n",
            "> baz\n",
            "> qux\n",
            "bar\n",
            "> baz\n",
            "> qux\n"
          ]
        }
      ]
    },
    {
      "cell_type": "code",
      "metadata": {
        "colab": {
          "base_uri": "https://localhost:8080/"
        },
        "id": "-ObJomGJcHwX",
        "outputId": "7e72e58f-7509-4f60-f7f3-b0183a5f5145"
      },
      "source": [
        "#One-Line while Loops\n",
        "n = 5\n",
        "while n > 0: n -= 1; print(n)"
      ],
      "execution_count": 18,
      "outputs": [
        {
          "output_type": "stream",
          "name": "stdout",
          "text": [
            "4\n",
            "3\n",
            "2\n",
            "1\n",
            "0\n"
          ]
        }
      ]
    }
  ]
}